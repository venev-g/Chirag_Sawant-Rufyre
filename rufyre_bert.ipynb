{
  "cells": [
    {
      "cell_type": "code",
      "execution_count": null,
      "metadata": {
        "colab": {
          "base_uri": "https://localhost:8080/"
        },
        "id": "w92W6FN03srR",
        "outputId": "2f0e82a2-54eb-41ab-bdf3-11f8117684f9"
      },
      "outputs": [
        {
          "name": "stdout",
          "output_type": "stream",
          "text": [
            "Drive already mounted at /content/drive; to attempt to forcibly remount, call drive.mount(\"/content/drive\", force_remount=True).\n"
          ]
        }
      ],
      "source": [
        "import pandas as pd\n",
        "train = pd.read_csv(\"data/train_og.csv\")\n",
        "test = pd.read_csv(\"data/test_og.csv\")\n",
        "train.columns"
      ]
    },
    {
      "cell_type": "markdown",
      "metadata": {},
      "source": [
        "# Keeping important columns only"
      ]
    },
    {
      "cell_type": "code",
      "execution_count": null,
      "metadata": {},
      "outputs": [],
      "source": [
        "cols = [\"Drug_high_status\", \"Disease_of_highest_status\", \"Drug_Status\",\n",
        "              \"GENENAME\", \"FUNCTION\", \"BIOCLASS\", \"SEQUENCE\", \"Disease\"]\n",
        "X = train.loc[:, cols]\n",
        "y = train.loc[:, \"Target_Status\"]\n",
        "test = test.loc[:, cols]"
      ]
    },
    {
      "cell_type": "markdown",
      "metadata": {},
      "source": [
        "# Ordinal Encoding on Drug_high_status and Drug_status"
      ]
    },
    {
      "cell_type": "code",
      "execution_count": null,
      "metadata": {},
      "outputs": [],
      "source": [
        "import pandas as pd\n",
        "\n",
        "# Define the mapping for the statuses including \"Registered\"\n",
        "def commoniser(text):\n",
        "    if text in ['Withdrawn from market', 'Discontinued in Phase 4', 'Phase 4', 'Phase 4 Trial']:\n",
        "        return 'Phase 4'\n",
        "    elif text in ['Approved (orphan drug)', 'approved', 'NDA filed']:\n",
        "        return 'Approved'\n",
        "    elif text in ['Phase 3', 'Discontinued in Phase 3',]:\n",
        "        return 'Phase 3'\n",
        "    elif text in ['Phase 2', 'Phase 2 Trial', 'Phase 2a', 'Phase 2b', 'Phase 2/3',]:\n",
        "     return 'Phase 2'\n",
        "    elif text in ['Discontinued in Phase 2', 'Discontinued in Phase 2a', 'Discontinued in Phase 2b']:\n",
        "     return 'Phase 2 Disc'\n",
        "    elif text in ['Phase 1', 'Phase 1 Trial', 'Phase 1/2',]:\n",
        "        return 'Phase 1'\n",
        "    elif text in ['Discontinued in Phase 1', 'Discontinued in Phase 1/2',]:\n",
        "        return 'Phase 1 Disc'\n",
        "    elif text in ['Investigative', 'Preclinical', 'Clinical trial', 'Terminated', \"Application submitted\"]:\n",
        "        return 'Pre-phase 1'\n",
        "    elif text in ['Discontinued in Preregistration', 'Patented', 'Registered']:\n",
        "        return 'pre-pre-fail'\n",
        "    else:\n",
        "       return text\n",
        "\n",
        "def customEncoder(text):\n",
        "    if text == 'Phase 4':\n",
        "        return 8 \n",
        "    elif text == 'Approved':\n",
        "        return 7 \n",
        "    elif text == 'Phase 3':\n",
        "        return 6 \n",
        "    elif text == \"Phase 2\":\n",
        "        return 5 \n",
        "    elif text == 'Phase 2 Disc':\n",
        "        return 4 \n",
        "    elif text == 'Phase 1':\n",
        "        return 3 \n",
        "    elif text == \"Phase 1 Disc\":\n",
        "        return 2 \n",
        "    elif text == \"Pre-phase 1\":\n",
        "        return 1 \n",
        "    elif text == 'pre-pre-fail':\n",
        "        return 0 "
      ]
    },
    {
      "cell_type": "code",
      "execution_count": null,
      "metadata": {},
      "outputs": [],
      "source": [
        "X[\"Drug_high_status\"] = X[\"Drug_high_status\"].apply(commoniser)\n",
        "X[\"Drug_Status\"] = X[\"Drug_Status\"].apply(commoniser)\n",
        "test[\"Drug_high_status\"] = test[\"Drug_high_status\"].apply(commoniser)\n",
        "test[\"Drug_Status\"] = test[\"Drug_Status\"].apply(commoniser)"
      ]
    },
    {
      "cell_type": "code",
      "execution_count": null,
      "metadata": {},
      "outputs": [],
      "source": [
        "X[\"Drug_high_status\"] = X[\"Drug_high_status\"].apply(customEncoder)\n",
        "X[\"Drug_Status\"] = X[\"Drug_Status\"].apply(customEncoder)\n",
        "test[\"Drug_high_status\"] = test[\"Drug_high_status\"].apply(customEncoder)\n",
        "test[\"Drug_Status\"] = test[\"Drug_Status\"].apply(customEncoder)"
      ]
    },
    {
      "cell_type": "markdown",
      "metadata": {},
      "source": [
        "# Preprocessing BIOCLASS and FUNCTION for Embeddings \n",
        "## (we eventually did make use of NLP, but not the greatest results)"
      ]
    },
    {
      "cell_type": "code",
      "execution_count": null,
      "metadata": {},
      "outputs": [],
      "source": [
        "import spacy\n",
        "nlp = spacy.load('en_core_web_sm')\n",
        "\n",
        "def preprocess_text(text):\n",
        "    doc = nlp(text.lower())\n",
        "    tokens = [token.lemma_ for token in doc if not token.is_stop and token.is_alpha]\n",
        "    return ' '.join(tokens)"
      ]
    },
    {
      "cell_type": "code",
      "execution_count": null,
      "metadata": {},
      "outputs": [],
      "source": [
        "X[\"BIOCLASS\"] = X[\"BIOCLASS\"].apply(preprocess_text)\n",
        "X[\"FUNCTION\"] = X[\"FUNCTION\"].apply(preprocess_text)\n",
        "test[\"BIOCLASS\"] = test[\"BIOCLASS\"].apply(preprocess_text)\n",
        "test[\"FUNCTION\"] = test[\"FUNCTION\"].apply(preprocess_text)"
      ]
    },
    {
      "cell_type": "markdown",
      "metadata": {},
      "source": [
        "# Converting sequence"
      ]
    },
    {
      "cell_type": "code",
      "execution_count": null,
      "metadata": {},
      "outputs": [],
      "source": [
        "acids = {'C', 'G', 'S', 'H', 'V', 'W', 'L', 'T', 'P', 'F', 'Y', 'R', 'N', 'I', 'D', 'E', 'Q', 'A', 'M', 'K'}\n",
        "def sequence_converter(text):\n",
        "    val = 0\n",
        "    for letter in acids:\n",
        "        val += text.count(letter) * ord(letter)\n",
        "        return val"
      ]
    },
    {
      "cell_type": "code",
      "execution_count": null,
      "metadata": {},
      "outputs": [],
      "source": [
        "X[\"Sequence_encoded\"] = X[\"SEQUENCE\"].apply(sequence_converter)\n",
        "test[\"Sequence_encoded\"] = test[\"SEQUENCE\"].apply(sequence_converter)"
      ]
    },
    {
      "cell_type": "code",
      "execution_count": null,
      "metadata": {},
      "outputs": [],
      "source": [
        "X[\"SEQUENCE\"] = X[\"SEQUENCE\"].apply(len)\n",
        "test[\"SEQUENCE\"] = test[\"SEQUENCE\"].apply(len)"
      ]
    },
    {
      "cell_type": "code",
      "execution_count": 2,
      "metadata": {
        "colab": {
          "base_uri": "https://localhost:8080/",
          "height": 112
        },
        "id": "olk01CNkbQ5W",
        "outputId": "a8dff352-44c3-4a10-b7cf-186801eaafae"
      },
      "outputs": [
        {
          "data": {
            "application/vnd.google.colaboratory.intrinsic+json": {
              "type": "dataframe",
              "variable_name": "train"
            },
            "text/html": [
              "\n",
              "  <div id=\"df-b1007544-e5ad-453c-9e40-f84864b0da7a\" class=\"colab-df-container\">\n",
              "    <div>\n",
              "<style scoped>\n",
              "    .dataframe tbody tr th:only-of-type {\n",
              "        vertical-align: middle;\n",
              "    }\n",
              "\n",
              "    .dataframe tbody tr th {\n",
              "        vertical-align: top;\n",
              "    }\n",
              "\n",
              "    .dataframe thead th {\n",
              "        text-align: right;\n",
              "    }\n",
              "</style>\n",
              "<table border=\"1\" class=\"dataframe\">\n",
              "  <thead>\n",
              "    <tr style=\"text-align: right;\">\n",
              "      <th></th>\n",
              "      <th>Drug_high_status</th>\n",
              "      <th>Drug_Status</th>\n",
              "      <th>SEQUENCE</th>\n",
              "      <th>Target_Status</th>\n",
              "      <th>sequence_encode</th>\n",
              "      <th>FUNCTION_encoded</th>\n",
              "      <th>BIOCLASS_encoded</th>\n",
              "      <th>Disease_encoded</th>\n",
              "      <th>Disease_of_highest_status_encoded</th>\n",
              "      <th>GENENAME_encoded</th>\n",
              "      <th>DRUGNAME_encoded</th>\n",
              "      <th>DRUGNAME</th>\n",
              "    </tr>\n",
              "  </thead>\n",
              "  <tbody>\n",
              "    <tr>\n",
              "      <th>0</th>\n",
              "      <td>7</td>\n",
              "      <td>7</td>\n",
              "      <td>2221</td>\n",
              "      <td>Terminated</td>\n",
              "      <td>2436</td>\n",
              "      <td>6.760199</td>\n",
              "      <td>6.031435</td>\n",
              "      <td>5.325765</td>\n",
              "      <td>6.517095</td>\n",
              "      <td>5.807966</td>\n",
              "      <td>5.936541</td>\n",
              "      <td>Solifenacin</td>\n",
              "    </tr>\n",
              "    <tr>\n",
              "      <th>1</th>\n",
              "      <td>1</td>\n",
              "      <td>1</td>\n",
              "      <td>599</td>\n",
              "      <td>Approved</td>\n",
              "      <td>870</td>\n",
              "      <td>6.343018</td>\n",
              "      <td>5.683960</td>\n",
              "      <td>6.311307</td>\n",
              "      <td>6.499673</td>\n",
              "      <td>5.533521</td>\n",
              "      <td>5.773524</td>\n",
              "      <td>AM-643</td>\n",
              "    </tr>\n",
              "  </tbody>\n",
              "</table>\n",
              "</div>\n",
              "    <div class=\"colab-df-buttons\">\n",
              "\n",
              "  <div class=\"colab-df-container\">\n",
              "    <button class=\"colab-df-convert\" onclick=\"convertToInteractive('df-b1007544-e5ad-453c-9e40-f84864b0da7a')\"\n",
              "            title=\"Convert this dataframe to an interactive table.\"\n",
              "            style=\"display:none;\">\n",
              "\n",
              "  <svg xmlns=\"http://www.w3.org/2000/svg\" height=\"24px\" viewBox=\"0 -960 960 960\">\n",
              "    <path d=\"M120-120v-720h720v720H120Zm60-500h600v-160H180v160Zm220 220h160v-160H400v160Zm0 220h160v-160H400v160ZM180-400h160v-160H180v160Zm440 0h160v-160H620v160ZM180-180h160v-160H180v160Zm440 0h160v-160H620v160Z\"/>\n",
              "  </svg>\n",
              "    </button>\n",
              "\n",
              "  <style>\n",
              "    .colab-df-container {\n",
              "      display:flex;\n",
              "      gap: 12px;\n",
              "    }\n",
              "\n",
              "    .colab-df-convert {\n",
              "      background-color: #E8F0FE;\n",
              "      border: none;\n",
              "      border-radius: 50%;\n",
              "      cursor: pointer;\n",
              "      display: none;\n",
              "      fill: #1967D2;\n",
              "      height: 32px;\n",
              "      padding: 0 0 0 0;\n",
              "      width: 32px;\n",
              "    }\n",
              "\n",
              "    .colab-df-convert:hover {\n",
              "      background-color: #E2EBFA;\n",
              "      box-shadow: 0px 1px 2px rgba(60, 64, 67, 0.3), 0px 1px 3px 1px rgba(60, 64, 67, 0.15);\n",
              "      fill: #174EA6;\n",
              "    }\n",
              "\n",
              "    .colab-df-buttons div {\n",
              "      margin-bottom: 4px;\n",
              "    }\n",
              "\n",
              "    [theme=dark] .colab-df-convert {\n",
              "      background-color: #3B4455;\n",
              "      fill: #D2E3FC;\n",
              "    }\n",
              "\n",
              "    [theme=dark] .colab-df-convert:hover {\n",
              "      background-color: #434B5C;\n",
              "      box-shadow: 0px 1px 3px 1px rgba(0, 0, 0, 0.15);\n",
              "      filter: drop-shadow(0px 1px 2px rgba(0, 0, 0, 0.3));\n",
              "      fill: #FFFFFF;\n",
              "    }\n",
              "  </style>\n",
              "\n",
              "    <script>\n",
              "      const buttonEl =\n",
              "        document.querySelector('#df-b1007544-e5ad-453c-9e40-f84864b0da7a button.colab-df-convert');\n",
              "      buttonEl.style.display =\n",
              "        google.colab.kernel.accessAllowed ? 'block' : 'none';\n",
              "\n",
              "      async function convertToInteractive(key) {\n",
              "        const element = document.querySelector('#df-b1007544-e5ad-453c-9e40-f84864b0da7a');\n",
              "        const dataTable =\n",
              "          await google.colab.kernel.invokeFunction('convertToInteractive',\n",
              "                                                    [key], {});\n",
              "        if (!dataTable) return;\n",
              "\n",
              "        const docLinkHtml = 'Like what you see? Visit the ' +\n",
              "          '<a target=\"_blank\" href=https://colab.research.google.com/notebooks/data_table.ipynb>data table notebook</a>'\n",
              "          + ' to learn more about interactive tables.';\n",
              "        element.innerHTML = '';\n",
              "        dataTable['output_type'] = 'display_data';\n",
              "        await google.colab.output.renderOutput(dataTable, element);\n",
              "        const docLink = document.createElement('div');\n",
              "        docLink.innerHTML = docLinkHtml;\n",
              "        element.appendChild(docLink);\n",
              "      }\n",
              "    </script>\n",
              "  </div>\n",
              "\n",
              "\n",
              "<div id=\"df-17f30394-adbd-4d19-b466-59380ebf1098\">\n",
              "  <button class=\"colab-df-quickchart\" onclick=\"quickchart('df-17f30394-adbd-4d19-b466-59380ebf1098')\"\n",
              "            title=\"Suggest charts\"\n",
              "            style=\"display:none;\">\n",
              "\n",
              "<svg xmlns=\"http://www.w3.org/2000/svg\" height=\"24px\"viewBox=\"0 0 24 24\"\n",
              "     width=\"24px\">\n",
              "    <g>\n",
              "        <path d=\"M19 3H5c-1.1 0-2 .9-2 2v14c0 1.1.9 2 2 2h14c1.1 0 2-.9 2-2V5c0-1.1-.9-2-2-2zM9 17H7v-7h2v7zm4 0h-2V7h2v10zm4 0h-2v-4h2v4z\"/>\n",
              "    </g>\n",
              "</svg>\n",
              "  </button>\n",
              "\n",
              "<style>\n",
              "  .colab-df-quickchart {\n",
              "      --bg-color: #E8F0FE;\n",
              "      --fill-color: #1967D2;\n",
              "      --hover-bg-color: #E2EBFA;\n",
              "      --hover-fill-color: #174EA6;\n",
              "      --disabled-fill-color: #AAA;\n",
              "      --disabled-bg-color: #DDD;\n",
              "  }\n",
              "\n",
              "  [theme=dark] .colab-df-quickchart {\n",
              "      --bg-color: #3B4455;\n",
              "      --fill-color: #D2E3FC;\n",
              "      --hover-bg-color: #434B5C;\n",
              "      --hover-fill-color: #FFFFFF;\n",
              "      --disabled-bg-color: #3B4455;\n",
              "      --disabled-fill-color: #666;\n",
              "  }\n",
              "\n",
              "  .colab-df-quickchart {\n",
              "    background-color: var(--bg-color);\n",
              "    border: none;\n",
              "    border-radius: 50%;\n",
              "    cursor: pointer;\n",
              "    display: none;\n",
              "    fill: var(--fill-color);\n",
              "    height: 32px;\n",
              "    padding: 0;\n",
              "    width: 32px;\n",
              "  }\n",
              "\n",
              "  .colab-df-quickchart:hover {\n",
              "    background-color: var(--hover-bg-color);\n",
              "    box-shadow: 0 1px 2px rgba(60, 64, 67, 0.3), 0 1px 3px 1px rgba(60, 64, 67, 0.15);\n",
              "    fill: var(--button-hover-fill-color);\n",
              "  }\n",
              "\n",
              "  .colab-df-quickchart-complete:disabled,\n",
              "  .colab-df-quickchart-complete:disabled:hover {\n",
              "    background-color: var(--disabled-bg-color);\n",
              "    fill: var(--disabled-fill-color);\n",
              "    box-shadow: none;\n",
              "  }\n",
              "\n",
              "  .colab-df-spinner {\n",
              "    border: 2px solid var(--fill-color);\n",
              "    border-color: transparent;\n",
              "    border-bottom-color: var(--fill-color);\n",
              "    animation:\n",
              "      spin 1s steps(1) infinite;\n",
              "  }\n",
              "\n",
              "  @keyframes spin {\n",
              "    0% {\n",
              "      border-color: transparent;\n",
              "      border-bottom-color: var(--fill-color);\n",
              "      border-left-color: var(--fill-color);\n",
              "    }\n",
              "    20% {\n",
              "      border-color: transparent;\n",
              "      border-left-color: var(--fill-color);\n",
              "      border-top-color: var(--fill-color);\n",
              "    }\n",
              "    30% {\n",
              "      border-color: transparent;\n",
              "      border-left-color: var(--fill-color);\n",
              "      border-top-color: var(--fill-color);\n",
              "      border-right-color: var(--fill-color);\n",
              "    }\n",
              "    40% {\n",
              "      border-color: transparent;\n",
              "      border-right-color: var(--fill-color);\n",
              "      border-top-color: var(--fill-color);\n",
              "    }\n",
              "    60% {\n",
              "      border-color: transparent;\n",
              "      border-right-color: var(--fill-color);\n",
              "    }\n",
              "    80% {\n",
              "      border-color: transparent;\n",
              "      border-right-color: var(--fill-color);\n",
              "      border-bottom-color: var(--fill-color);\n",
              "    }\n",
              "    90% {\n",
              "      border-color: transparent;\n",
              "      border-bottom-color: var(--fill-color);\n",
              "    }\n",
              "  }\n",
              "</style>\n",
              "\n",
              "  <script>\n",
              "    async function quickchart(key) {\n",
              "      const quickchartButtonEl =\n",
              "        document.querySelector('#' + key + ' button');\n",
              "      quickchartButtonEl.disabled = true;  // To prevent multiple clicks.\n",
              "      quickchartButtonEl.classList.add('colab-df-spinner');\n",
              "      try {\n",
              "        const charts = await google.colab.kernel.invokeFunction(\n",
              "            'suggestCharts', [key], {});\n",
              "      } catch (error) {\n",
              "        console.error('Error during call to suggestCharts:', error);\n",
              "      }\n",
              "      quickchartButtonEl.classList.remove('colab-df-spinner');\n",
              "      quickchartButtonEl.classList.add('colab-df-quickchart-complete');\n",
              "    }\n",
              "    (() => {\n",
              "      let quickchartButtonEl =\n",
              "        document.querySelector('#df-17f30394-adbd-4d19-b466-59380ebf1098 button');\n",
              "      quickchartButtonEl.style.display =\n",
              "        google.colab.kernel.accessAllowed ? 'block' : 'none';\n",
              "    })();\n",
              "  </script>\n",
              "</div>\n",
              "\n",
              "    </div>\n",
              "  </div>\n"
            ],
            "text/plain": [
              "   Drug_high_status  Drug_Status  SEQUENCE Target_Status  sequence_encode  \\\n",
              "0                 7            7      2221    Terminated             2436   \n",
              "1                 1            1       599      Approved              870   \n",
              "\n",
              "   FUNCTION_encoded  BIOCLASS_encoded  Disease_encoded  \\\n",
              "0          6.760199          6.031435         5.325765   \n",
              "1          6.343018          5.683960         6.311307   \n",
              "\n",
              "   Disease_of_highest_status_encoded  GENENAME_encoded  DRUGNAME_encoded  \\\n",
              "0                           6.517095          5.807966          5.936541   \n",
              "1                           6.499673          5.533521          5.773524   \n",
              "\n",
              "      DRUGNAME  \n",
              "0  Solifenacin  \n",
              "1       AM-643  "
            ]
          },
          "execution_count": 2,
          "metadata": {},
          "output_type": "execute_result"
        }
      ],
      "source": [
        "X = X.join(X[\"DRUGNAME\"])\n",
        "test_again = pd.read_csv(\"test.csv\")\n",
        "test = test.join(test_again[\"DRUGNAME\"])"
      ]
    },
    {
      "cell_type": "code",
      "execution_count": null,
      "metadata": {
        "colab": {
          "base_uri": "https://localhost:8080/"
        },
        "id": "xcRBtTNFAKMO",
        "outputId": "b8f7c2e1-5e5f-45ec-dac3-fdc8dcdb1dd5"
      },
      "outputs": [
        {
          "name": "stdout",
          "output_type": "stream",
          "text": [
            "True\n",
            "Tesla T4\n"
          ]
        }
      ],
      "source": [
        "import torch\n",
        "print(torch.cuda.is_available())  # Should return True if GPU is available\n",
        "print(torch.cuda.get_device_name(0))  #"
      ]
    },
    {
      "cell_type": "markdown",
      "metadata": {
        "id": "Lkf6I9dVQG53"
      },
      "source": [
        "# 1. Embeddings for the FUNCTION column"
      ]
    },
    {
      "cell_type": "code",
      "execution_count": null,
      "metadata": {
        "colab": {
          "base_uri": "https://localhost:8080/"
        },
        "id": "DW8mXUZNE4Br",
        "outputId": "ab932734-39a8-44da-d1f4-2617f49edb2f"
      },
      "outputs": [
        {
          "name": "stdout",
          "output_type": "stream",
          "text": [
            "<class 'numpy.ndarray'>\n",
            "<class 'pandas.core.series.Series'>\n"
          ]
        }
      ],
      "source": [
        "print(type(X[\"FUNCTION\"].unique()))\n",
        "print(type(X[\"FUNCTION\"]))"
      ]
    },
    {
      "cell_type": "markdown",
      "metadata": {
        "id": "krSW0QOxQO8W"
      },
      "source": [
        "#  Embeddings for the columns"
      ]
    },
    {
      "cell_type": "code",
      "execution_count": null,
      "metadata": {
        "id": "GCqYkzHtQR8D"
      },
      "outputs": [],
      "source": [
        "from transformers import AutoTokenizer, AutoModel\n",
        "import numpy as np\n",
        "\n",
        "def generate_embeddings(col):\n",
        "  unique_functions = train[col].unique()\n",
        "\n",
        "  tokenizer = AutoTokenizer.from_pretrained('allenai/scibert_scivocab_uncased')\n",
        "  model = AutoModel.from_pretrained('allenai/scibert_scivocab_uncased')\n",
        "  device = torch.device('cuda' if torch.cuda.is_available() else 'cpu')\n",
        "  model = model.to(device)\n",
        "\n",
        "  embeddings_dict = {}\n",
        "  for function in unique_functions:\n",
        "      inputs = tokenizer(function, return_tensors='pt', padding=True, truncation=True, max_length=512).to(device)\n",
        "\n",
        "      with torch.no_grad():\n",
        "          outputs = model(**inputs)\n",
        "\n",
        "      embedding = outputs.last_hidden_state.mean(dim=1).cpu().numpy()  # Move to CPU for storage\n",
        "\n",
        "      embeddings_dict[function] = embedding[0]  # Save the embedding vector\n",
        "  return embeddings_dict\n",
        "\n",
        "def fix_test_missing(embeddings_dict):\n",
        "  print(len(embeddings_dict))\n",
        "  single_numbers = {key: np.mean(value) * 1000 for key, value in embeddings_dict.items()}\n",
        "  not_in_train = np.mean(list(single_numbers.values()))\n",
        "  print(len(single_numbers))\n",
        "  print(not_in_train)\n",
        "  return single_numbers, not_in_train"
      ]
    },
    {
      "cell_type": "code",
      "execution_count": null,
      "metadata": {
        "colab": {
          "base_uri": "https://localhost:8080/"
        },
        "id": "DCzlH-F4Xd_c",
        "outputId": "5ff0447d-0513-4506-dd92-104947148eef"
      },
      "outputs": [
        {
          "name": "stdout",
          "output_type": "stream",
          "text": [
            "589\n"
          ]
        },
        {
          "name": "stderr",
          "output_type": "stream",
          "text": [
            "/usr/local/lib/python3.10/dist-packages/transformers/tokenization_utils_base.py:1601: FutureWarning: `clean_up_tokenization_spaces` was not set. It will be set to `True` by default. This behavior will be depracted in transformers v4.45, and will be then set to `False` by default. For more details check this issue: https://github.com/huggingface/transformers/issues/31884\n",
            "  warnings.warn(\n"
          ]
        },
        {
          "name": "stdout",
          "output_type": "stream",
          "text": [
            "dict_keys(['Genetic cardiac arrhythmia', 'Rheumatoid arthritis', 'Renal cell carcinoma', 'Hyper-lipoproteinaemia', 'Oesophageal/gastroduodenal disorder', 'Bladder cancer', 'Acute diabete complication', 'Encephalopathy', 'Pain', 'Attention deficit hyperactivity disorder', 'Allergic/hypersensitivity disorder', 'Lung cancer', 'Essential hypertension', 'Cutaneous lupus erythematosus', 'Abnormal micturition', 'Cardiovascular disease', 'Irritable bowel syndrome', 'Prostate cancer', 'Postoperative inflammation', 'Glaucoma', 'Obesity', 'Dissociative neurological symptom disorder', 'Malignant haematopoietic neoplasm', 'Schizophrenia', 'Zoster', 'Post-traumatic stress disorder', 'Anxiety disorder', 'Breast cancer', 'Tic disorder', 'Nausea/vomiting', 'Depression', 'Cerebral ischaemia', 'Low bone mass disorder', 'Urogenital cancer', 'Mild neurocognitive disorder', 'Dystrophic epidermolysis bullosa', 'Ataxic disorder', 'Phlegmy cough', 'Urgency', 'Fatigue', 'Unspecific substance use disorder', 'Type 2 diabetes mellitus', 'Parkinsonism', 'Retinopathy', 'Multiple myeloma', 'Cataract', 'Corneal disease', 'Ovarian cancer', 'Asthma', 'Dementia', 'Testicular cancer', 'Alzheimer disease', 'Ulcerative colitis', 'Colon cancer', 'Sepsis', 'Unspecific body region injury', 'Malaria', 'Human immunodeficiency virus disease', 'Malignant digestive organ neoplasm', 'Follicular lymphoma', 'Cough', 'Solid tumour/cancer', 'Insomnia', 'Social anxiety disorder', 'Atopic eczema', 'Thyrotoxicosis', 'Stomach cancer', 'Restless legs syndrome', 'Chronic obstructive pulmonary disease', 'Mature B-cell leukaemia', 'Bladder disorder', 'Skin tag/polyp', 'Colorectal cancer', 'Mature T-cell lymphoma', 'Frontotemporal dementia', 'Diabetes mellitus', 'Binge eating disorder', 'Migraine', 'Gram-positive bacterial infection', 'Mycosis fungoides', 'Cardiac arrhythmia', 'Hyperaemia', 'Acute respiratory distress syndrome', 'Diabetic foot ulcer', 'Lymphoma', 'Myocardial infarction', 'Acidosis', 'Neuropathy', 'Angina pectoris', 'Pancreatic cancer', 'Psoriasis', 'Muscular dystrophy', 'Heart failure', 'Pituitary gland disorder', 'Nicotine use disorder', 'Arterial occlusive disease', 'Idiopathic interstitial pneumonitis', 'Intracranial injury', 'Joint pain', 'Osteoarthritis', 'Bacterial infection', 'Hypertension', 'Hepatitis virus infection', 'Synovial sarcoma', 'Pruritus', 'Urinary system disease', 'Multiple sclerosis', 'Autism spectrum disorder', 'Cervical cancer', 'Bronchitis', 'General pain disorder', 'Chronic myelomonocytic leukaemia', 'Ischemic heart disease', 'Urinary system clinical sympton', 'Acute myeloid leukaemia', 'Pneumonia', 'Liver cancer', 'Transplanted organ/tissue', 'Arteries/arterioles disorder', 'Thyroid cancer', 'Melanoma', 'Herpes simplex infection', 'Cryptosporidiosis', 'Respiratory system disease', 'Chronic pain', 'Alcoholic liver disease', 'B-cell lymphoma', 'Head and neck cancer', 'Sexual dysfunction', 'Cachexia', 'Coronary atherosclerosis', 'Brain cancer', 'Coronary vasospastic disease', 'Malignant mesenchymal neoplasm', 'Mature B-cell lymphoma', 'Uterine fibroid', 'Pulmonary disease', 'Innate/adaptive immunodeficiency', 'Thrombosis', 'Supraventricular tachyarrhythmia', 'Metabolic disorder', 'Chronic kidney disease', 'Substance abuse', 'Respiratory infection', 'Peritoneal cancer', 'Alopecia', 'Central nervous system disease', 'Ischemia', 'Osteosarcoma', 'Skin postprocedural disorder', 'Epidermal dysplasias', 'Psychotic disorder', 'Skin cancer', 'Tonus and reflex abnormality', 'Kaposi sarcoma', 'Liposarcoma', 'Male infertility', 'Hypotension', 'Transplant rejection', 'Prostate hyperplasia', 'Adaptive immunity immunodeficiency', 'Sleep-wake disorder', 'Trypanosomiasis', 'Dystonic disorder', 'Skin/mucosal anomaly', 'Coronary microvascular disease', 'Anorexia nervosa', 'Myelodysplastic syndrome', 'Pleural mesothelioma', 'Opioid use disorder', 'Large intestine polyp', 'Non-small-cell lung cancer', 'Itching', 'Female pelvic pain', 'Narcolepsy', 'Autoimmune disease', 'Mood disorder', 'Acquired prion disease', 'Faecal incontinence', 'Nystagmus', 'Intracerebral haemorrhage', 'Unspecific substance harmful effect', 'Pulmonary hypertension', 'Choreiform disorder', 'Immune system disease', 'Non-alcoholic fatty liver disease', 'Vasculitis', 'Soft tissue disorder', 'Phakomatoses/hamartoneoplastic syndrome', 'Headache', 'Nasopharyngeal cancer', 'Ureteral cancer', 'Orthostatic hypotension', 'Seborrhoeic dermatitis', 'Blood-forming organ disease', 'Malignant intestine neoplasm', 'Indeterminate colitis', 'Pemphigus', 'Neuromyelitis optica', 'Coronary thrombosis', 'Leukaemia', 'Insulin-resistance syndrome', 'Intellectual development disorder', 'Bipolar disorder', 'Inborn lipid metabolism error', 'Chronic lower extremities peripheral venous insufficiency', 'Brain disease', 'Metastatic lymph node neoplasm', 'Central and peripheral nervous disease', 'Chronic arterial occlusive disease', 'Knee osteoarthritis', 'Metastatic biliary tract neoplasms', 'Ischaemic/haemorrhagic stroke', 'Polyuria', 'Cocaine use disorder', 'Bowel habit change', 'Secondary hypertension', 'Fever', 'Vasomotor/allergic rhinitis', 'Myasthenia gravis', 'Gastrointestinal stromal tumour', 'Thymoma', 'Filariasis', 'Acne vulgaris', 'Myeloproliferative neoplasm', 'Peptic ulcer', 'Gout', 'Fallopian tube cancer', 'Female genital system disease', 'Thrombocytosis', 'Spinal pain', 'Neutropenia', 'Dyslipidemia', 'Functional bladder disorder', 'Macular degeneration', 'Sleep-related breathing disorder', 'Procedure injury', 'Nail/perionychium infection', 'Oesophagus motility disorder', 'Epilepsy/seizure', 'Mental/behavioural/neurodevelopmental disorder', 'Bronchiectasis', 'Cardiac arrest', 'Hydrocephalus', 'Acute laryngitis/tracheitis', 'Cystic fibrosis', 'Abortion', 'Gastroduodenal motor/secretory disorder', 'Nutritional deficiency', 'Heart disease', 'Multiple structural anomalies syndrome', 'Skin and skin-structure infection', 'Bone cancer', 'Psoriatic arthritis', 'Hypo-parathyroidism', 'Non-specific cutaneous vascular sympton', 'Metastatic digestive system neoplasm', 'Preterm labour/delivery', 'Bone growth disorder', 'Ventricular tachyarrhythmia', 'Duodenal ulcer', 'Endocrine gland neoplasm', 'Dermatophytosis', 'Lymphangioleiomyomatosis', 'Cannabis use disorder', 'Vitamin deficiency', 'Addictive disorder', 'Psychoactive substances use disorder', 'Adrenocortical insufficiency', 'Carcinoid syndrome', 'Thrombocytopenia', 'Breathing abnormality', 'BCR-ABL1-negative chronic myeloid leukaemia', 'Sarcoidosis', 'Urethral cancer', 'Tension-type headache', 'Neurobehavioral disorder', 'Virus infection', 'Adrenal cancer', 'Retina cancer', 'Schizoaffective disorder', 'Biliary tract cancer', 'Acute upper respiratory infection', 'Cerebral ischaemic stroke', 'Systemic sclerosis', 'Inborn purine/pyrimidine/nucleotide metabolism error', 'Bleeding disorder', 'Gastritis', 'Synthesis disorder', 'Lips/oral mucosa miscellaneous disorder', 'Oesophagitis', 'Gastro-oesophageal reflux disease', 'Injury', 'Large intestine motility disorder', 'Diffuse large B-cell lymphoma', 'Infectious meningitis', 'Acute pain', 'Digestive system disease', 'CNS non-viral infection', 'Bulimia nervosa', 'Muscle disorder', 'Pancreatitis', 'Esophageal cancer', 'Eexposure to noxious substances harmful effect', 'Neurodegenerative disorder', 'Diagnostic imaging', 'Spinal cord/cranial nerve neoplasm', 'Adrenogenital disorder', 'Type-1/2 diabete', 'Urinary tract infection', 'Inflammatory arthropathy', 'Common warts', 'Hepatic fibrosis/cirrhosis', 'Crohn disease', 'Sebaceous gland disorder', 'Bone/articular cartilage neoplasm', 'Rectum cancer', 'Pregnancy/childbirth/puerperium maternal infection', 'Sickle-cell disorder', 'Coronavirus infection', 'Fragile X chromosome', 'Mood/affect symptom', 'Conjunctiva disorder', 'Ejaculatory dysfunction', 'Inborn carbohydrate metabolism error', 'Radionuclide imaging', 'Prostate disease', 'Primary psychotic disorder manifestation', 'Sjogren syndrome', 'Menopausal disorder', 'Mastocytosis', 'Fibrosis', 'Retinal vascular occlusion', 'Eczema', 'Conduction disorder', 'Circulatory system disease', 'Hypo-osmolality/hyponatraemia', 'Neuroendocrine carcinoma', 'Hidradenitis suppurativa', 'Dyspepsia', 'Overgrowth syndrome', 'Parasitic worm infestation', 'Inborn porphyrin/heme metabolism error', 'Movement disorder', 'Mammary tumour', 'Influenza', 'Emphysema', 'Endometrial cancer', 'Testicular dysfunction', 'Anal cancer', 'Gastric ulcer', 'Chronic insomnia', 'Sarcoma', 'Trigeminal nerve disorder', 'Dyspareunia', 'Motor neuron disease', 'Sex development malformative disorder', 'Oesophagogastric junction cancer', 'Leiomyosarcoma', 'Muscular atrophy', 'Henipavirus encephalitis', 'Amyloidosis', 'Inherited coagulation factor deficiency', 'Irregularities', 'Haemorrhoids', 'Cushing syndrome', 'HIV-infected patients with tuberculosis', 'Nasopharyngitis', 'Juvenile idiopathic arthritis', 'Metastatic lung neoplasm', 'Vascular system developmental anomaly', 'Endometriosis', 'Oral cavity/oesophagus/stomach in situ carcinoma', 'Gangrene', 'Inborn metabolism deficiency', 'Skeletal anomaly', 'Trematode disease', 'Squamous cell carcinoma', 'Genetic prion disease', 'Acquired hypomelanotic disorder', 'Hypo-glycaemia', 'Intermittent explosive disorder', 'Epileptic encephalopathy', 'Digestive organ benign neoplasm', 'Pancreatic internal secretion disorder', 'Hypoactive sexual desire dysfunction', 'Otitis externa', 'Menstrual cycle bleeding disorder', 'Liver vascular disorder', 'Contraceptive management', 'Hypopharyngeal cancer', 'Fungal infection', 'Musculoskeletal system/connective tissue disease', 'Dermal/subcutaneous connective tissue atrophy/degeneration', 'Peroxisomal disease', 'Infectious gastroenteritis/colitis', 'Dengue fever', 'Appearance/behaviour symptom', 'Mineral deficiency', 'Coeliac disease', 'Nephritic syndrome', 'Coagulation defect', 'Tuberculosis', 'Anterior uveitis', 'Periodontal disease', 'Vaginitis', 'Adrenomedullary hyperfunction', 'Escherichia coli intestinal infection', 'Lupus erythematosus', 'Chronic skin disorder', 'Extraocular muscle disorder', 'Myotonic disorder', 'Female genital tract noninflammatory disorder', 'Ischaemic heart disease', 'Graft-versus-host disease', 'Breast in situ carcinoma', 'Inflammatory liver disease', 'Radiculopathy', 'Pemphigoid', 'Metastatic malignant neoplasm', 'Liver disease', 'Tremor-related disorder', 'Hyperhidrosis', 'Oral mucositis', 'Hodgkin lymphoma', 'Metastatic tumour', 'Cognition symptoms/signs/clinical sympton', 'Eye disorder', 'Inflammatory spondyloarthritis', 'Muscle calcification/ossification', 'Shoulder lesion', 'Lymphatic vessel/lymph nodes disorder', 'Chemotherapy/radiotherapy-induced mucositis', 'Non-thrombocytopenic purpura', 'Hemangioma', 'Eye anterior segment structural developmental anomaly', 'Abdominal pelvic pain', 'Intrathoracic organs injury', 'Small intestine motility disorder', 'Old age', 'Stomach disease', 'Left ventricular failure', 'concerning food/fluid intake symptom', 'Blood chemistry clinical sympton', 'Status epilepticus', 'Christmas disease', 'Monogenic autoinflammatory syndrome', 'Focal/segmental autonomic disorder', 'Postpartum haemorrhage', 'Pediculosis', 'Pancreatic malfunction', 'Autoimmune liver disease', 'Episodic vestibular syndrome', 'Metabolism inborn error', 'Kidney failure', 'Childbirth associated breast/lactation disorder', 'Immunoproliferative disorder', 'Bone paget disease', 'Localisation', 'Endocarditis', 'Burn and burn infection', 'Episode', 'Toxicity', 'Musculoskeletal disorder', 'Intentional self-harm', 'Somnolence', 'Venous thromboembolism', 'Acute/chronic pain', 'Lysosomal disease', 'Prurigo', 'Pyoderma gangrenosum', 'Arterial thrombosis', 'Morning sickness disorder', 'Orgasmic dysfunction', 'Sensation disturbance', 'Toxoplasmosis', 'Acquired melanotic macule/lentigine', 'Atrophy', 'Kinetoplastids', 'Reactive arthropathy', 'Sexually transmitted infection', 'Cytomegaloviral disease', 'Qualitative platelet defect', 'Hyperaldosteronism', 'CNS anomalies syndrome', 'Hyperlipidemia', 'Infants/toddlers/children functional digestive disorder', 'Raynaud phenomenon', 'Postoperative ileus', 'Cystitis', 'Skin fungal infection disorder', 'Cystic/dysplastic kidney disease', 'Hair/hair growth developmental defect', 'Aneurysm/dissection', 'Behcet disease', 'Ewing sarcoma', 'Light sensitivity impairment', 'Esophagus sensitivity', 'Onchocerciasis', 'Heart beat abnormality', 'Metastatic meninges neoplasm', 'Otitis media', 'Pulmonary thromboembolism', 'Cholelithiasis', 'Mineral absorption/transport disorder', 'Viral encephalitis', 'Urticaria', 'Cardiomegaly', 'Body-focused behaviour disorder', 'Acquired hypermelanosis', 'Gram-negative bacterial infection', 'COVID-19', 'Extremities vasodilatation', 'Deep vein thrombosis', 'Blood/blood-forming organ sympton', 'Joint direct infection', 'Ovarian dysfunction', 'Chemoprotection', 'Pleomorphic sarcoma', 'Gonococcal infection', 'Gallbladder/bile ducts/liver structural developmental anomaly', 'Increased intracranial pressure', 'Hypo-thyroidism', 'Syphilis', 'General examination', 'Viral intestinal infection', 'Meningioma', 'Lower limb mononeuropathy', 'Female infertility', 'Stress', 'Spine/trunk injury', 'Parasitic infection', 'Spontaneous urticaria', 'Ovarian developmental anomaly', 'Lichen planus', 'Pseudoxanthoma elasticum', 'Adenocarcinoma', 'Premature ageing appearance', 'Medical/surgical procedure injury', 'Subarachnoid haemorrhage', 'Snakebite', 'Cerebrovascular disease', 'Acquired cutaneous blood vessel malformation', 'Contact dermatitis', 'Immunodeficiency', 'Staphylococcal/streptococcal disease', 'Alpha-1-antitrypsin deficiency', 'Enuresis', 'Inherited retinal dystrophy', 'Haemolytic anemia', 'Circadian rhythm sleep disorder', 'Anogenital warts', 'Sezary syndrome', 'Upper respiratory tract disorder', 'CNS birth injury', 'Ulcer', 'Basal cell carcinoma', 'Acute disease anaemia', 'Mineral excesses', 'Acquired haemolytic anaemia', 'Genitourinary disease', 'Pancreas disease', 'Anaerobic bacterial infection', 'African trypanosomiasis', 'Inborn energy metabolism error', 'Visual system disease', 'Mycobacterium infection', 'Retinal inflammation', 'Pituitary hypofunction', 'Hyper-parathyroidism', 'Skin pigmentation genetic disorder', 'Ocular cancer', 'Uterine ligament/parametrium/uterine adnexa neoplasm', 'Idiopathic inflammatory myopathy', 'Degenerative high myopia', 'Skin disease', 'Cardiomyopathy', 'Congenital ichthyosis', 'Autonomic nervous system disorder', 'Nervous system paraneoplastic/autoimmune disorder', 'Clotting disorder', 'Cervical intraepithelial neoplasia', 'Leishmaniasis', 'Genital organ in situ carcinoma', 'Fragrance/cosmetics phototoxic reaction', 'Dysplasia', 'Myelopathy', 'Dizziness and giddiness', 'Antimicrobial drug resistance'])\n",
            "589\n",
            "589\n",
            "6.0737661365893985\n",
            "674\n"
          ]
        },
        {
          "name": "stderr",
          "output_type": "stream",
          "text": [
            "/usr/local/lib/python3.10/dist-packages/transformers/tokenization_utils_base.py:1601: FutureWarning: `clean_up_tokenization_spaces` was not set. It will be set to `True` by default. This behavior will be depracted in transformers v4.45, and will be then set to `False` by default. For more details check this issue: https://github.com/huggingface/transformers/issues/31884\n",
            "  warnings.warn(\n"
          ]
        },
        {
          "name": "stdout",
          "output_type": "stream",
          "text": [
            "dict_keys(['Overactive bladder', 'Dermatological disease', 'Solid tumour/cancer', 'Alzheimer disease', 'Parkinson disease', 'Lipid metabolism disorder', 'Mood disorder', 'Anxiety disorder', 'Influenza A virus infection', 'Renal cell carcinoma', 'Ovarian cancer', 'Urinary incontinence', 'Major depressive disorder', 'Orthostatic hypotension', 'Asthma', 'Obesity', 'Stomach ulcer', 'Lewy body dementia', 'Thymic cancer', 'Diabetic complication', 'Hypertension', 'Attention deficit hyperactivity disorder', 'Psychotic disorder', 'Depression', 'Migraine', 'Systemic mastocytosis', 'Melanoma', 'Nasopharyngeal carcinoma', 'Follicular lymphoma', 'Hepatic fibrosis', 'Endometriosis', 'Rheumatoid arthritis', 'Cystic fibrosis', 'Peptic ulcer', 'Chronic obstructive pulmonary disease', 'Schizophrenia', 'Type-2 diabetes', 'Anaplastic mixed oligoastrocytoma', 'Dementia', 'Lung cancer', 'Pancreatitis', 'Benign prostatic hyperplasia', 'Non-hodgkin lymphoma', 'Giant cell arteritis', 'Prostate hyperplasia', 'Non-small-cell lung cancer', 'Cutaneous lupus erythematosus', 'Alcohol dependence', 'Pain', 'Malaria', 'Sleep-wake disorder', 'Malnutrition', 'Atrial fibrillation', 'Gastrointestinal cancer', 'Trypanosomiasis', 'Skin imperfections', 'Hematologic tumour', 'Neuroblastoma', 'Acute myelogenous leukaemia', 'Chronic lymphocytic leukaemia', 'Female sexual arousal dysfunction', 'Bacterial infection', 'Intestinal cancer', 'Methamphetamine dependence', 'Inflammation', 'Fibrolamellar liver cancer', 'Mixed connective tissue disease', 'Multiple myeloma', 'Colorectal cancer', 'Visceral leishmaniasis', 'Mantle cell lymphoma', 'Thrombosis', 'Hepatocellular carcinoma', 'Chronic myelogenous leukaemia', 'Diabetic neuropathy', 'Venous thromboembolism', 'Thrombocytopenia', 'Acute lymphoblastic leukaemia', 'Pancreatic cancer', 'Breast cancer', 'Polycythemia vera', 'Polyuria', 'Ocular hypertension', 'Diabetic nephropathy', 'Human immunodeficiency virus infection', 'Osteoarthritis', 'Delayed gastric emptying', 'Myelodysplastic syndrome', 'Fibromyalgia', 'Urinary tract infection', 'Prostate cancer', 'Psoriatic arthritis', 'Cardiac arrhythmias', 'Postpartum haemorrhage', 'Atopic dermatitis', 'Osteoporosis', 'Back pain', 'Huntington disease', 'Smoking dependence', 'Hepatitis', 'Osteosarcoma', 'Myelofibrosis', 'Heart block', 'Arthritis', 'Cardiovascular disease', 'Allergic rhinitis', 'Acute kidney injury', 'Hypotension', 'Rett syndrome', 'Anterior uveitis', 'Cough', 'Tinea versicolor', 'Chronic myelomonocytic leukaemia', 'Anaplastic large cell lymphoma', 'Allergy', 'Lymphoma', 'Leishmaniasis', 'Acne vulgaris', 'Cestodes infection', 'Cataract', 'Acid-reflux disorder', 'Miscarriage', 'Epilepsy', 'Ischemic stroke', 'Multiple sclerosis', 'Influenza virus infection', 'Peripheral arterial disease', 'Insomnia', 'Cholangiocarcinoma', 'Congestive heart failure', 'Schizoaffective disorder', 'Angina pectoris', 'Essential thrombocythemia', 'Type-1 diabetes', 'Hyperlipidaemia', 'Thyroid disease', 'Arrhythmia', 'Hepatitis C virus infection', 'Advanced solid tumour', 'Head and neck cancer', 'Constitutional neutropenia', 'Arteriosclerosis', 'Gastric adenocarcinoma', 'Liver disease', 'Haematological malignancy', 'Carcinoma', 'Pancreatic islet transplantation failure', 'Erectile dysfunction', 'Neurological disorder', 'Triple negative breast cancer', 'Gynecologic cancer', 'Infectious disease', 'Malignant mesothelioma', 'Neuropathic pain', 'Diffuse large B-cell lymphoma', 'Angioedema', 'Mammary analogue secretory carcinoma', 'Seizure disorder', 'Hypercalcaemia', 'Opioid dependence', 'Joint pain', 'Coronavirus Disease 2019 (COVID-19)', 'Dry eye disease', 'Kaposi sarcoma', 'Acute myeloid leukaemia', 'Respiratory disease', 'Small lymphocytic lymphoma', 'Urethral cancer', 'Thyroid cancer', 'Bradycardia', 'High blood pressure', 'Neurodegenerative disorder', 'Cancer related pain', 'Spasm', 'Recurrent glioblastoma', 'Metabolic syndrome x', 'Renal transplantation', 'Diarrhea', 'Squamous head and neck cell carcinom', 'Metabolic disorder', 'Condyloma', 'Chronic pain', 'Otitis media', 'Paroxysmal supraventricular tachycardia', 'Skin cancer', 'Hereditary angioedema', 'Erythropoietic porphyrias', 'Glioblastoma multiforme', 'Hypersensitivity', 'Gastro-oesophageal reflux', 'Hyperprolactinaemia', 'Stroke', 'Prostate disease', 'Graft rejection', 'Hypothyroidism', 'Fungal infection', 'Cutaneous T-cell lymphoma', 'Menkes disease', 'Psoriasis vulgaris', 'Cerebrovascular ischaemia', 'Myasthenia gravis', 'Radionuclide imaging', 'Merkel cell carcinoma', 'Menorrhagia', 'Crohn disease', 'Traumatic brain injury', 'Sexual dysfunction', 'Menopause symptom', 'Colon cancer', 'Headache', 'Sinus rhythm disorder', 'Narcotic depression', 'Melasma', 'Myocardial infarction', 'Familial hypercholesterolemia', 'Poison intoxication', 'Systemic sclerosis', 'Anaesthesia', 'Allergic conjunctivitis', 'Bipolar disorder', 'Vitamin D deficiency', 'Motor symptoms', 'Acute and chronic heart failure', 'Hepatitis B virus infection', 'Alpha-1 antitrypsin deficiency', 'Gastroesophageal reflux disease', 'Cognitive impairment', 'Cardiac disease', 'High blood cholesterol level', 'Brain metastases', 'Postmenopausal osteoporosis', 'Dry cough', 'HER2-positive breast cancer', 'Gastrointestinal disease', 'Uremic pruritus', 'Hypercholesterolaemia', 'Idiopathic pulmonary fibrosis', 'Diabetes insipidus', 'Invasive aspergillosis', 'Drug abuse', 'Human immunodeficiency virus-1 infection', 'Addictive disorder', 'Heart arrhythmia', 'Heart failure', 'Pruritus', 'Actinic keratosis', 'Pulmonary fibrosis', 'Middle East Respiratory Syndrome (MERS)', 'Weight loss', 'Seborrhoeic dermatitis', \"Castleman's disease\", 'Postpartum depression', 'Discoid lupus erythematosus', 'Atherosclerosis', 'Autoimmune diabetes', 'Thrombin deficiency', 'Sepsis', 'Fibrosis', 'Gastrointestinal stromal tumour', 'Pseudomonas infection', 'Bleeding disorder', 'Hypertriglyceridemia', 'leukaemia', 'Substance use disorder', 'Virus infection', 'Thyrotoxicosis', 'Organophosphate poisoning', 'Primary myelofibrosis', 'Analgesia', 'Gram-positive bacterial infection', 'Hodgkin lymphoma', 'Narcolepsy', 'Irritable bowel syndrome', 'Heroin and opiate withdrawal', 'Tumour', 'Hyponatraemia', 'Fragile X syndrome', 'Duchenne dystrophy', 'Tuberculosis', 'Ankylosing spondylitis', 'Musculoskeletal pain', 'Medulloblastoma', 'Myocardial ischemia', 'Pulmonary arterial hypertension', 'Cutaneous candidiasis', 'Insulin-resistant disorder', 'Episode', 'Chemotherapy-induced nausea', 'Diagnostic imaging', 'Primary biliary cirrhosis', 'Mesothelioma', 'Cushing disease', 'Artery stenosis', 'Tachyarrhythmias', 'Nausea', 'African trypanosomiasis', 'Hypokalemia', 'Type 1 gaucher disease', 'Male sexual disorder', 'Vomiting', 'Macular degeneration', 'Gastric motility disorder', 'Psychomotor agitation', 'Fecal incontinence', 'Growth hormone deficiency', 'Peripheral vascular disease', 'Glaucoma/ocular hypertension', 'LennoxGastaut syndrome', 'Pyoderma gangrenosum', 'Plaque psoriasis', 'Tobacco dependence', 'Worm infection', 'Inflammatory bowel disease', 'Peripheral T-cell lymphoma', 'Grade IV astrocytoma', 'Coronavirus infection', 'Ductal carcinoma', 'Cas mediated disorder', 'Dysbetalipoproteinemia', 'Bone metastases', 'Tourette syndrome', 'Gonorrheal vaginitis', 'Medical abortion', 'Acute or chronic pain', 'Vitiligo', 'Dyspepsia', 'Rhinitis', 'Muscle spasm', 'Open-angle glaucoma', 'Peroxisomal disorder', 'Autism spectrum disorder', 'Primary biliary cholangitis', 'Encephalopathy', 'Dermal necrosis', 'Verruca vulgaris', 'Albinism', 'Cerebral vasospasm', 'Nasal congestion', 'Diabetic cataract', 'Small-cell lung cancer', 'Disorder of calcium metabolism', 'Muscular dystrophy', 'Pulmonary and extrapulmonary tuberculosis', 'Irritability', 'Pediatric cancer', 'Dravet syndrome', 'Ulcerative colitis', 'Ocular disease', 'Gout', 'Bacillary dysentery', 'Adrenocortical carcinoma', 'Prurigo nodularis', 'Emphysema', 'Allergic inflammation', 'Advanced gum disease', 'Osteopetrosis', 'Idiopathic parkinson disease', 'Congenital alopecia', 'Osteoarthritis pain', 'Paroxysmal atrial fibrillation', 'Biliary tract cancer', 'Lactation failure', 'Convulsion', 'Coronary artery disease', 'Transplant rejection', 'Dysmenorrhea', 'Systemic lupus erythematosus', 'Pneumocystis pneumonia', 'Metastatic colorectal cancer', \"Paget's disease\", 'Dyslipidemia', 'Phlegmy cough', 'Testicular cancer', 'Diarrhea-predominant irritable bowel syndrome', 'Chagas disease', 'Metastatic biliary tract neoplasms', 'Knee pain', 'Diabetic retinopathy', 'Pulmonary disease', 'Cholelithiasis', 'Frailty', 'Bronchiectasis', 'Cardiac failure', 'Anaplastic astrocytoma', 'Skin infection', 'Duodenal ulcer', 'Hyperaemia', 'Menopausal and postmenopausal disorder', 'Infection of P. falciparum', 'Biliary cancer', 'Miosis', 'Colon polyp', 'Eye inflammation', 'Circadian rhythm sleep disorder', 'Contraception', 'Chronic low back pain', 'Respiratory allergy', 'Nicotine dependence', 'Peritoneal cavity cancer', 'Tinea pedis', 'Graft rejection in heart transplantation', 'Rheumatic fever', 'Knee osteoarthritis', 'Polycystic kidney disease', 'Heart disease', 'Euvolemic hyponatremia', 'High cholesterol level', 'Synovial sarcoma', 'Angiogenesis disorder', 'Diabetic foot ulcer', 'Malignant rhabdoid tumour', 'Non-insulin dependent diabetes', 'Male hormonal deficiency', 'Infantile spasm', 'Amyotrophic lateral sclerosis', 'Respiratory depression', 'Hormone deficiency', 'Congenital adrenal hyperplasia', 'Acute myocardial infarction', 'Liver cancer', 'Movement disorder', 'Cirrhosis', 'Hyperuricaemia', 'Acute gouty arthritis', 'Complex partial seizure', 'Idiopathic thrombocytopenic purpura', 'Diabetic gastroparesis', 'B-cell lymphoma', 'Corneal ulcer', 'Meniere disease', 'Vitamin K deficiency', 'B-cell non-hodgkin lymphoma', 'Cocaine addiction', 'Brain cancer', 'Mycobacterium infection', 'Neuromyelitis optica', 'Iron overload disease', 'Deep vein thrombosis', 'Herpes simplex virus infection', 'Opioid-induced constipation', 'Tinea corporis', 'Ewing sarcoma', 'Female infertility', 'Senile lentigines', 'Apnea', 'Ischemia', 'Dyskinesia', 'Ephelides', 'Preterm labour', 'Intermittent claudication', 'Respiratory syncytial virus infection', \"Friedreich's ataxia\", 'Glioma', 'Gastroparesis', 'Eating disorder', 'Premature labour', 'Vascular purpura', 'Acute promyelocytic leukaemia', 'Vasodilatation of extremities', 'Arthralgia', 'Wound healing', 'Hyperthyroidism', 'Bulimia nervosa', 'Itching', 'Edema', 'Postoperative inflammation', 'Ocular allergy', 'Bone disease', 'Anorexia nervosa cachexia', 'Ophthalmic graves disease', 'Organ transplant rejection', 'Chronic/stable angina', 'Excessive daytime sleepiness', 'Bronchitis', 'Acute asthma', 'Pancreatic malfunction', 'Advanced stage follicular lymphoma', 'Central nervous system disease', 'Benzodiazepine overdose', 'Skin burns', 'Vertigo meniere disease', 'Esophageal cancer', 'Proliferative vitreoretinopathy', 'Xerostomia', 'Pulmonary hypertension', 'Chronic HCV-1 infection', 'Myeloproliferative syndrome', 'Obstructive sleep apnea', 'Aspergillosis', 'Reperfusion injury', 'Post-traumatic stress disorder', 'Nerve injury', 'Myeloid leukaemia', 'Vascular disease', 'Perennial allergic rhinitis', 'Cytomegalovirus retinitis', 'Premature ejaculation', 'Toxoplasmosis', 'Inflammatory skin condition', 'Coronary heart disease', 'Meningioma metastases', 'Female hypogonadism', 'Axial spondyloarthritis', 'Allergic skin disorder', 'Renal failure', 'Hypoactive sexual desire dysfunction', 'Enuresis', 'Neuroendocrine cancer', 'Staining', 'Onychomycosis', 'Ischemia-reperfusion injury', 'Ovulation dysfunction', 'Congestive cardiac insufficiency', 'Acute pain', 'Hyperglyceridemia', 'External genital and perianal wart', 'Dilated cardiomyopathy', 'Synthesis disorder', 'Inflammatory pain', 'Hay fever', 'Rectal adenocarcinoma', 'Infertility', 'Circulatory disorder', 'Endometrial cancer', 'Myocardial hypertrophy', 'Nausea and vomiting', 'Brain injury', 'Malignant pleural mesothelioma', 'Conjunctival fibrosis', 'High-risk myelofibrosis', 'Familial chylomicronemia syndrome', 'Ileus', 'Ocular inflammation', 'Metabolic acidosis', 'Thrombocythemia', 'Pompe disease', 'Inborn error of metabolism', 'Conjunctivitis', 'Perianal crohn disease', 'Hepatitis D virus infection', 'Relapsing-remitting multiple sclerosis', 'Tinea cruris', 'Essential hypertension', 'Spontaneous abortion', 'Postoperative hemorrhage', 'Haemostatic astringent', 'Chronic glaucoma', 'Liver cirrhosis', 'Dermatomycosis', 'Ovarian stimulation', 'Hormonally-responsive breast cancer', 'Hemorrhoids', 'Brain and central nervous system tumour', 'Ventricular arrhythmias', 'Hyperparathyroidism', 'Xerophthalmia', 'Sickle-cell disorder', 'Relapsed or refractory chronic lymphocytic leukaemia', 'Ventricular tachycardia', 'Fabry disease', 'Chronic periodontitis', 'Acute bacterial skin infection', 'Somatotropin deficiency', 'Alcoholic cirrhosis of liver', 'Estrogen deficiency', 'Molluscum contagiosum infection', 'Spinal anesthesia', 'Malignant glioma', 'Ophthalmic surgery injury', 'Primary progressive multiple sclerosis', 'Gynecological disease', 'Hutchinson-Gilford progeria syndrome', 'Diffuse systemic sclerosis', 'Cytomegalovirus Disease', 'Refractory sickle cell ulcers', 'Immune System disease', 'Constipation', 'Bladder cancer', 'Nocturia', 'Urea cycle disorder', 'Multi-drug resistant tuberculosis', 'Kidney cancer', 'Coagulation defect', 'Acute liver failure', 'Aging skin', 'Intra ocular pressure reduction', 'Psychiatric disorder', 'lung transplantation', 'Pneumonia', 'Dermatitis', 'Helminth infection', 'Cutaneous melanoma', 'Stomach disease', 'Complex regional pain syndrome', 'Whim syndrome', 'Uterine fibroids', 'Testicular germ cell tumour', 'Retinoblastoma', 'Excessive bleeding', 'Autoimmune disease', 'HCV 1-6 infection', 'Hepatovirus infection', 'IgA nephropathy', 'Respiratory tract infection', 'Parasitic infection', 'Lupus', 'Hypoglycemia', 'Myeloproliferative neoplasm', 'Elevated C-reactive protein', 'Acute coronary syndrome', 'Peripheral neuropathy', 'Acromegaly', 'Hepatitis virus infection', 'Immune thrombocytopenic purpura', 'Acidosis', 'Throat irritation', 'Chronic breathing disorder', 'Stabilize muscle contraction', 'Hairy cell leukaemia', 'Alopecia', 'Acquired immune deficiency syndrome', 'Cerebral infarction', 'Weight gain', 'Pediatric lennox-gastaut syndrome', 'Severe acute respiratory syndrome (SARS)', 'Postherpetic neuralgia', 'Focal segmental glomerulosclerosis', 'Vasospasm', 'Behcet disease', 'Acute lymphocytic leukaemia', 'Muscle atrophy', 'Erythema', 'Anemia', 'Diabetic macular edema', 'T-cell leukaemia', 'Hypothalamic hypogonadism', 'Abortion', 'Primitive neuroectodermal tumour medulloblastoma', 'Hirsutism', 'Cluster headache', 'Raynaud disease', 'B-cell acute lymphoblastic leukaemia', 'Increase blood pressure', 'Metastatic cancer', 'Laxative', 'Airway inflammation', 'Hereditary acantholytic dermatoses', 'Hyperlipoproteinemia', 'Abdominal aortic aneurysm', 'Syphilis infection', 'Pustular palmoplantar psoriasis', 'Kidney disease', 'Dutch elm disease', 'Ringworm infection', 'Chronic bronchitis', 'Vitamin deficiency', 'Basal cell carcinoma', 'Arterial thrombosis', 'Nephropathic cystinosis', 'Status epilepticus seizure', 'Essential tremor or related tremors', 'Dermatophytosis', 'Jock itch', 'Pervasive developmental disorder', 'Hereditary tyrosinemia type 1', 'Amoebiasis', 'infection in the ear canal', 'Chronic myeloid leukaemia', 'Urinary tract disease', 'Anaemia', 'Folate-deficiency anemia', 'Insecticide', 'Myelopathy', 'Candidiasis'])\n",
            "674\n",
            "674\n",
            "6.107921305165049\n",
            "700\n"
          ]
        },
        {
          "name": "stderr",
          "output_type": "stream",
          "text": [
            "/usr/local/lib/python3.10/dist-packages/transformers/tokenization_utils_base.py:1601: FutureWarning: `clean_up_tokenization_spaces` was not set. It will be set to `True` by default. This behavior will be depracted in transformers v4.45, and will be then set to `False` by default. For more details check this issue: https://github.com/huggingface/transformers/issues/31884\n",
            "  warnings.warn(\n"
          ]
        },
        {
          "name": "stdout",
          "output_type": "stream",
          "text": [
            "dict_keys(['CACNA1C', 'PTGS1', 'KDR', 'ADORA1', 'ACHE', 'MTOR', 'INSR', 'XDH', 'SLC6A2', 'HTR1A', 'GSK3B', 'EPHB4', 'CA2', 'JAK1', 'ADRA1A', 'FLT3', 'ABL1', 'HTR2B', 'PIK3CG', 'PDE4B', 'HSD11B1', 'CCKAR', 'HTR2C', 'CDK2', 'AKR1B1', 'AGTR2', 'HTR2A', 'SLC6A4', 'CDK7', 'DRD1', 'DRD2', 'HDAC1', 'AKT3', 'ERBB2', 'DRD5', 'BCHE', 'APP', 'ELANE', 'CHRM5', 'PDE4A', 'PDGFRA', 'PPARA', 'AKT1', 'TEK', 'KIT', 'KCNH2', 'CHRNA7', 'SRC', 'F2', 'ADRA2A', 'ADRA2C', 'EGFR', 'DPP4', 'CYP19A1', 'ESR2', 'TOP1', 'TNF', 'HTR7', 'JAK3', 'OPRD1', 'CYP3A4', 'CNR2', 'HSP90AA1', 'DRD3', 'CHEK1', 'HSPA5', 'SIGMAR1', 'MAPK14', 'ADRB2', 'MAOA', 'BCL2L1', 'JAK2', 'CA6', 'TRPV3', 'OPRM1', 'PTGS1; PTGS2', 'NFE2L2', 'PDE5A', 'CMA1', 'SCN5A', 'CDK1', 'IGF1R', 'ATR', 'FGFR1', 'KCND3', 'TACR1', 'F10', 'MMP1', 'CDK4', 'AVPR1A', 'HTR6', 'HTR1D', 'ADRA1B', 'PLK1', 'FLT1', 'CACNA1B', 'HSP90AB1', 'EDNRB', 'CTSS', 'CTSK', 'CHRM1', 'ESR1', 'TRPV1', 'CYP2C9', 'OPRK1', 'SLC9A3', 'OXTR', 'MC4R', 'HDAC2', 'CASR', 'ADORA2A', 'CD38', 'PIK3CA', 'KDM1A', 'SYK', 'CD274', 'AGTR1', 'CCR5', 'PDGFRB', 'MET', 'MMP2', 'IKBKB', 'PTGER2', 'ADORA2B', 'TOP2A; TOP2B', 'KLK1', 'PLAU', 'HRH1', 'RPS6KA2', 'AR', 'PDE4D', 'ADORA3', 'EDNRA', 'NOS2', 'CSF1R', 'RARA', 'STAT3', 'CHRM3', 'HRH2', 'GRIN2B', 'FASN', 'PGR', 'GABRA1', 'SLC6A3', 'BTK', 'PIK3CD', 'SMYD2', 'RET', 'TACR3', 'CNR1', 'PPARG', 'HMGCR', 'ABCB1', 'PIK3CB', 'THRB', 'SLC5A2', 'MAOB', 'PTGIR', 'DNMT1', 'MDM2', 'TBXA2R', 'CXCR1', 'MMP9', 'LTA4H', 'HDAC8', 'NR3C1', 'CA1', 'GABRA3', 'Malaria fabI', 'CA4', 'CDK9', 'ROCK1', 'TSPO', 'PTK2', 'FDPS', 'PTGS2', 'PARP1', 'FLT4', 'HRH3', 'RORC', 'FNTB; FNTA', 'PTGDR', 'ERBB4', 'TMEM97', 'S1PR1', 'P2RX7', 'HTR3A', 'MKNK1', 'PDE10A', 'KIF11', 'TNKS2', 'LCK', 'ALOX5', 'OPRL1', 'PTGDR2', 'BRD4', 'IDO1', 'NTRK3', 'ADRB3', 'ITK', 'TLR8', 'AURKA', 'PDK1', 'EPHX2', 'MPO', 'SGK1', 'PROC', 'PRKCD', 'ADRB1', 'CXCR4', 'SRD5A2', 'AVPR2', 'KCNA3', 'CCR3', 'SIRT1', 'NR1H4', 'NTRK2', 'ALK', 'LTB4R', 'CHRM4', 'NAMPT', 'SCN9A', 'EZH2', 'CYP2D6', 'PRKCB', 'Trypano CYSP', 'ROCK2', 'FPR1', 'MCHR1', 'MAPK1', 'SIRT2', 'FAP', 'PPARD', 'PTGER4', 'PLAT', 'CYP51A1', 'BCL2', 'SMO', 'CTSC', 'MAP2K1', 'CHRM2', 'XIAP', 'VDR', 'LYN', 'TK1', 'ADAM17', 'HTR4', 'FGFR2', 'CTSB', 'MAPKAPK2', 'DRD4', 'PTH1R', 'PRSS1', 'MELK', 'SQLE', 'FCER2', 'NR3C2', 'RXRG', 'IMPDH1', 'G6PD', 'AXL', 'MAPK9', 'RXRA', 'GRIA1', 'CALCRL', 'PTAFR', 'NTRK1', 'AKR1C3', 'CPT1B', 'DHFR', 'PLG', 'TLR7', 'CDC25B', 'CES1', 'CRHR1', 'HDAC3', 'GRM5', 'BIRC3', 'GRIA2', 'TYK2', 'BCL2L2', 'KCNN4', 'AURKC', 'ADRA1D', 'PARP2', 'CASP8', 'MC1R', 'IMPDH2', 'CCKBR', 'TOP2A', 'CA14', 'F7', 'PRKCG', 'MAPK12', 'AURKB', 'CCR1', 'BIRC2', 'PRKDC', 'HRH4', 'GAA', 'PTGFR', 'ADRA2B', 'GHSR', 'Malaria PLA1', 'PRTN3', 'GSK3A', 'CA9', 'MAPK8', 'MMP7', 'F11', 'CDK6', 'GPR119', 'SPHK2', 'TBXAS1', 'MGLL', 'ROS1', 'CTSL', 'HTR1B', 'PIM1', 'CTSA', 'KLKB1', 'HCRTR2', 'CCR2', 'ERBB3', 'HDAC10', 'SLC18A2', 'MPL', 'THRA', 'REN', 'TGFBR1', 'RARG', 'KCNQ1', 'TRPA1', 'GRIK1', 'S1PR5', 'PTGES', 'DOT1L', 'SLC5A1', 'GRM2', 'NOS3', 'Malaria Pfmrk', 'COMT', 'MMP12', 'CXCR2', 'SSTR2', 'GABRA5', 'CYP11B1', 'P2RY2', 'KCNA5', 'ATM', 'MMP13', 'DGAT2', 'MGAM', 'Bact inhA', 'SLC33A1', 'CCR4', 'METAP2', 'CSNK2A1', 'FGFR3', 'GRM1', 'BCR-ABL1', 'FKBP1A', 'ATP1A1', 'ALPL', 'AVPR1B', 'TLR4', 'PTPN1', 'NR1H3', 'AOX1', 'MTNR1B', 'BDKRB2', 'AOC3', 'CA12', 'RAF1', 'TAAR1', 'PRKCE', 'SERPINA6', 'RIPK1', 'CSNK1A1', 'DHODH', 'ABAT', 'PDE3A', 'ICAM1', 'PDE2A', 'PRKCA', 'HIV tat', 'CYP2A6', 'CFD', 'AAK1', 'MAPK3', 'F2RL1', 'GRM3', 'MAPK11', 'UGCG', 'P2RY6', 'Bact parC', 'FYN', 'ABCG2', 'ENPP2', 'KCNQ3', 'MLNR', 'TERT', 'GPBAR1', 'STS', 'C1S', 'CETP', 'DPP8', 'MTNR1A', 'MME', 'MMP3', 'MMP8', 'PLA2G7', 'Stap-coc blaZ', 'PPP3CA', 'MCL1', 'P2RY12', 'CACNA2D1', 'CDK9-CCNT1', 'MERTK', 'TACR2', 'Bact lef', 'PREP', 'HTR1F', 'HCAR2', 'EPHA2', 'BDKRB1', 'S1PR2', 'CTSG', 'SCN10A', 'PLA2G2A', 'DGAT1', 'GPR55', 'HDAC6', 'PFKFB3', 'NOS1', 'FDFT1', 'PAK4', 'HDAC4', 'RPS6KA1', 'FOLR1', 'RXRB', 'BRD2', 'PNP', 'GABRA2', 'MIF', 'ACE2', 'CYP17A1', 'SLC6A9', 'CELA1', 'ODC1', 'HCV NS3', 'F9', 'HSPB1', 'GLRA1', 'MMP14', 'CDK8', 'SCN4A', 'SLC22A8', 'P2RX3', 'CPB2', 'HTR5A', 'TYR', 'GNRHR', 'CSNK1E', 'BRAF', 'PLK2', 'HCV NS4B', 'DYRK1A', 'HCRTR1', 'CTSF', 'NPEPPS', 'PDPK1', 'NQO1', 'HTR1E', 'VCP', 'PDE9A', 'PLK4', 'RARB', 'CYP26A1', 'HSV UL30', 'VKORC1', 'NTSR1', 'SERPINE1', 'ATIC', 'TPSAB1', 'SCN11A', 'BRDT', 'MC3R', 'dnk', 'CHEK2', 'SSTR5', 'ADK', 'CSNK1D', 'SRD5A1', 'GCGR', 'CASP3', 'NPY5R', 'TOP2B', 'PTPN11', 'YES1', 'PLA2G1B', 'AMD1', 'IDH1', 'PTGER1', 'KCNQ2', 'MYLK', 'LIPE', 'IRAK4', 'PLA2G4A', 'CFTR', 'DPP9', 'SLC7A11', 'ABCC1', 'HCV NS5B', 'CRHR2', 'GART', 'CTSD', 'S100B', 'ADCY1', 'TNKS', 'PRKCQ', 'RPS6KB1', 'SGPL1', 'EPHB2', 'NPY1R', 'CYP11B2', 'CDK5', 'FFAR1', 'EHMT2', 'PTK6', 'FOLH1', 'MKNK2', 'PTGER3', 'MAP3K5', 'NR1H2', 'SLC10A1', 'Malaria CPF2', 'PSMB8', 'GSTP1', 'GRM4', 'NQO2', 'MST1R', 'ABCC9', 'CTSV', 'SLC6A1', 'CACNA1H', 'SSTR3', 'F2R', 'SLC22A12', 'SCN8A', 'EEF2K', 'EBP', 'TTK', 'GRIA3', 'ESRRA', 'CALCA', 'SPHK1', 'PPIA', 'CCL2', 'TLR9', 'CBR1', 'EP300', 'APEX1', 'GLP1R', 'Bact fabH', 'ADAMTS5', 'MAP3K9', 'GRIN2A', 'ITGAL', 'HSP90B1', 'USP2', 'RRM2', 'GPER1', 'JUN', 'HSD11B2', 'TRPM8', 'CASP1', 'PRMT5', 'ADA', 'TGFBR2', 'IDE', 'CDA', 'GAPDH', 'MAP2K2', 'CREBBP', 'SSTR1', 'S1PR3', 'C5AR1', 'ANPEP', 'CDC25A', 'Trypano TPR', 'SLC9A1', 'CDC7', 'PIM2', 'CYSLTR1', 'SSTR4', 'MAPK10', 'CACNA1G', 'CASP9', 'PIN1', 'TYMS', 'GBA', 'PLD2', 'ABCC8', 'EGLN1', 'UCHL1', 'SRR', 'BRD3', 'LRRK2', 'KISS1R', 'Malaria fabG', 'PDE7A', 'UTS2R', 'DAO', 'GSR', 'CALCR', 'EIF2AK3', 'FFAR2', 'PNLIP', 'GLO1', 'Influ NA', 'HCK', 'CXCL8', 'GRIA4', 'CCR7', 'CHRNA1', 'SLC5A4', 'TRPC5', 'FGFR4', 'ERN1', 'TRPV4', 'BACE1', 'SCD', 'SCN3A', 'PRKD1', 'PRKCZ', 'CCR9', 'LPL', 'CDC25C', 'CXCR5', 'ADAM10', 'Bact aroA', 'CHUK', 'TDO2', 'USP8', 'PRMT1', 'WEE1', 'HPV E6', 'MC5R', 'NPY2R', 'RPS6KA3', 'SLC2A1', 'USP5', 'PPIB', 'ATP2A2', 'PDE8A', 'MAPKAPK5', 'CACNA1D', 'TPO', 'SNCA', 'RBP4', 'USP7', 'KCNMA1', 'NT5E', 'EPHA3', 'MARK3', 'EGLN2', 'Malaria PLA2', 'HPGDS', 'NOX4', 'GCK', 'CYP24A1', 'PDE7B', 'DPYD', 'POR', 'MAP4K2', 'GLUL', 'HPD', 'NPR1', 'PGD', 'STK4', 'KRAS', 'SRPK1', 'ACVR1', 'PDE1B', 'PTPRS', 'ASIC3', 'Bact gyrB', 'CASP7', 'PORCN', 'KCNN3', 'CYSLTR2', 'PYGM', 'QPCT', 'GLA', 'EPHA4', 'Bact murA', 'RORA', 'NR1I3', 'HK2'])\n",
            "700\n",
            "700\n",
            "5.7746055183400005\n"
          ]
        }
      ],
      "source": [
        "for col in [\"BIOCLASS\", \"FUNCTION\", \"Disease\", \"Disease_of_highest_status\", \"GENENAME\", \"DRUGNAME\"]:\n",
        "  bioclass_embeddings = generate_embeddings(col)\n",
        "  print(bioclass_embeddings.keys())\n",
        "  bioclass_dict, not_in_train = fix_test_missing(bioclass_embeddings)\n",
        "\n",
        "  def encode_test(text):\n",
        "    if text in bioclass_dict.keys():\n",
        "      return bioclass_dict[text]\n",
        "    else:\n",
        "      return not_in_train\n",
        "\n",
        "  train[f\"{col}_encoded\"] = train[col].map(bioclass_dict)\n",
        "  test[f\"{col}_encoded\"] = test[col].apply(encode_test)"
      ]
    },
    {
      "cell_type": "code",
      "execution_count": null,
      "metadata": {
        "id": "VPHaZNFEb5DN"
      },
      "outputs": [],
      "source": [
        "train = train.drop([\"DRUGNAME\", \"FUNCTION\", \"GENENAME\", \"BIOCLASS\", \"Disease\", \"Disease_of_highest_status\"], axis=1)\n",
        "test = test.drop([\"DRUGNAME\", \"FUNCTION\", \"GENENAME\", \"BIOCLASS\", \"Disease\", \"Disease_of_highest_status\"], axis=1)"
      ]
    },
    {
      "cell_type": "code",
      "execution_count": null,
      "metadata": {
        "id": "t0n0_S91cPB2"
      },
      "outputs": [],
      "source": [
        "# then trained on this dataset where there were numerical values \n",
        "# only, and added Drug_Status and Drug_high_status and got half decent results\n",
        "# Got a 0.96 and 0.97 with random forest and catboost respectively"
      ]
    }
  ],
  "metadata": {
    "accelerator": "GPU",
    "colab": {
      "gpuType": "T4",
      "provenance": []
    },
    "kernelspec": {
      "display_name": "Python 3",
      "name": "python3"
    },
    "language_info": {
      "name": "python"
    }
  },
  "nbformat": 4,
  "nbformat_minor": 0
}
