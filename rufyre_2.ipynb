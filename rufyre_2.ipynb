{
 "cells": [
  {
   "cell_type": "code",
   "execution_count": 1,
   "metadata": {},
   "outputs": [],
   "source": [
    "import pandas as pd\n",
    "from sklearn.model_selection import train_test_split\n",
    "from sklearn.ensemble import RandomForestClassifier\n",
    "from sklearn.preprocessing import LabelEncoder\n",
    "from sklearn.metrics import f1_score"
   ]
  },
  {
   "cell_type": "code",
   "execution_count": 2,
   "metadata": {},
   "outputs": [
    {
     "data": {
      "text/plain": [
       "Index(['ID', 'TargetID', 'DRUGID', 'DRUGTYPE', 'Drug_high_status', 'DRUGNAME',\n",
       "       'PUBCHCID', 'Disease_of_highest_status', 'Drug_Status', 'UNIPROID',\n",
       "       'TARGNAME', 'GENENAME', 'SYNONYMS', 'FUNCTION', 'BIOCLASS', 'SEQUENCE',\n",
       "       'Disease', 'Accession Number', 'Target_Status'],\n",
       "      dtype='object')"
      ]
     },
     "execution_count": 2,
     "metadata": {},
     "output_type": "execute_result"
    }
   ],
   "source": [
    "import pandas as pd\n",
    "train = pd.read_csv(\"data/train_og.csv\")\n",
    "test = pd.read_csv(\"data/test_og.csv\")\n",
    "train.columns"
   ]
  },
  {
   "cell_type": "markdown",
   "metadata": {},
   "source": [
    "# Keeping important columns only"
   ]
  },
  {
   "cell_type": "code",
   "execution_count": 3,
   "metadata": {},
   "outputs": [],
   "source": [
    "cols = [\"Drug_high_status\", \"Disease_of_highest_status\", \"Drug_Status\",\n",
    "              \"GENENAME\", \"FUNCTION\", \"BIOCLASS\", \"SEQUENCE\", \"Disease\"]\n",
    "X = train.loc[:, cols]\n",
    "y = train.loc[:, \"Target_Status\"]\n",
    "test = test.loc[:, cols]"
   ]
  },
  {
   "cell_type": "markdown",
   "metadata": {},
   "source": [
    "# Ordinal Encoding on Drug_high_status and Drug_status"
   ]
  },
  {
   "cell_type": "code",
   "execution_count": 4,
   "metadata": {},
   "outputs": [],
   "source": [
    "import pandas as pd\n",
    "\n",
    "# Define the mapping for the statuses including \"Registered\"\n",
    "def commoniser(text):\n",
    "    if text in ['Withdrawn from market', 'Discontinued in Phase 4', 'Phase 4', 'Phase 4 Trial']:\n",
    "        return 'Phase 4'\n",
    "    elif text in ['Approved (orphan drug)', 'approved', 'NDA filed']:\n",
    "        return 'Approved'\n",
    "    elif text in ['Phase 3', 'Discontinued in Phase 3',]:\n",
    "        return 'Phase 3'\n",
    "    elif text in ['Phase 2', 'Phase 2 Trial', 'Phase 2a', 'Phase 2b', 'Phase 2/3',]:\n",
    "     return 'Phase 2'\n",
    "    elif text in ['Discontinued in Phase 2', 'Discontinued in Phase 2a', 'Discontinued in Phase 2b']:\n",
    "     return 'Phase 2 Disc'\n",
    "    elif text in ['Phase 1', 'Phase 1 Trial', 'Phase 1/2',]:\n",
    "        return 'Phase 1'\n",
    "    elif text in ['Discontinued in Phase 1', 'Discontinued in Phase 1/2',]:\n",
    "        return 'Phase 1 Disc'\n",
    "    elif text in ['Investigative', 'Preclinical', 'Clinical trial', 'Terminated', \"Application submitted\"]:\n",
    "        return 'Pre-phase 1'\n",
    "    elif text in ['Discontinued in Preregistration', 'Patented', 'Registered']:\n",
    "        return 'pre-pre-fail'\n",
    "    else:\n",
    "       return text\n",
    "\n",
    "def customEncoder(text):\n",
    "    if text == 'Phase 4':\n",
    "        return 8 \n",
    "    elif text == 'Approved':\n",
    "        return 7 \n",
    "    elif text == 'Phase 3':\n",
    "        return 6 \n",
    "    elif text == \"Phase 2\":\n",
    "        return 5 \n",
    "    elif text == 'Phase 2 Disc':\n",
    "        return 4 \n",
    "    elif text == 'Phase 1':\n",
    "        return 3 \n",
    "    elif text == \"Phase 1 Disc\":\n",
    "        return 2 \n",
    "    elif text == \"Pre-phase 1\":\n",
    "        return 1 \n",
    "    elif text == 'pre-pre-fail':\n",
    "        return 0 "
   ]
  },
  {
   "cell_type": "code",
   "execution_count": 5,
   "metadata": {},
   "outputs": [],
   "source": [
    "X[\"Drug_high_status\"] = X[\"Drug_high_status\"].apply(commoniser)\n",
    "X[\"Drug_Status\"] = X[\"Drug_Status\"].apply(commoniser)\n",
    "test[\"Drug_high_status\"] = test[\"Drug_high_status\"].apply(commoniser)\n",
    "test[\"Drug_Status\"] = test[\"Drug_Status\"].apply(commoniser)"
   ]
  },
  {
   "cell_type": "code",
   "execution_count": 6,
   "metadata": {},
   "outputs": [],
   "source": [
    "X[\"Drug_high_status\"] = X[\"Drug_high_status\"].apply(customEncoder)\n",
    "X[\"Drug_Status\"] = X[\"Drug_Status\"].apply(customEncoder)\n",
    "test[\"Drug_high_status\"] = test[\"Drug_high_status\"].apply(customEncoder)\n",
    "test[\"Drug_Status\"] = test[\"Drug_Status\"].apply(customEncoder)"
   ]
  },
  {
   "cell_type": "markdown",
   "metadata": {},
   "source": [
    "# Preprocessing BIOCLASS and FUNCTION for Embeddings \n",
    "## (we eventually did make use of NLP, but not the greatest results)"
   ]
  },
  {
   "cell_type": "code",
   "execution_count": 7,
   "metadata": {},
   "outputs": [
    {
     "name": "stderr",
     "output_type": "stream",
     "text": [
      "/home/raj/miniconda3/lib/python3.12/site-packages/torch/cuda/__init__.py:654: UserWarning: Can't initialize NVML\n",
      "  warnings.warn(\"Can't initialize NVML\")\n"
     ]
    }
   ],
   "source": [
    "import spacy\n",
    "nlp = spacy.load('en_core_web_sm')\n",
    "\n",
    "def preprocess_text(text):\n",
    "    doc = nlp(text.lower())\n",
    "    tokens = [token.lemma_ for token in doc if not token.is_stop and token.is_alpha]\n",
    "    return ' '.join(tokens)"
   ]
  },
  {
   "cell_type": "code",
   "execution_count": null,
   "metadata": {},
   "outputs": [],
   "source": [
    "X[\"BIOCLASS\"] = X[\"BIOCLASS\"].apply(preprocess_text)\n",
    "X[\"FUNCTION\"] = X[\"FUNCTION\"].apply(preprocess_text)\n",
    "test[\"BIOCLASS\"] = test[\"BIOCLASS\"].apply(preprocess_text)\n",
    "test[\"FUNCTION\"] = test[\"FUNCTION\"].apply(preprocess_text)"
   ]
  },
  {
   "cell_type": "markdown",
   "metadata": {},
   "source": [
    "# Converting sequence"
   ]
  },
  {
   "cell_type": "code",
   "execution_count": 8,
   "metadata": {},
   "outputs": [],
   "source": [
    "acids = {'C', 'G', 'S', 'H', 'V', 'W', 'L', 'T', 'P', 'F', 'Y', 'R', 'N', 'I', 'D', 'E', 'Q', 'A', 'M', 'K'}\n",
    "def sequence_converter(text):\n",
    "    val = 0\n",
    "    for letter in acids:\n",
    "        val += text.count(letter) * ord(letter)\n",
    "        return val"
   ]
  },
  {
   "cell_type": "code",
   "execution_count": 9,
   "metadata": {},
   "outputs": [],
   "source": [
    "X[\"Sequence_encoded\"] = X[\"SEQUENCE\"].apply(sequence_converter)\n",
    "test[\"Sequence_encoded\"] = test[\"SEQUENCE\"].apply(sequence_converter)"
   ]
  },
  {
   "cell_type": "code",
   "execution_count": 10,
   "metadata": {},
   "outputs": [],
   "source": [
    "X[\"SEQUENCE\"] = X[\"SEQUENCE\"].apply(len)\n",
    "test[\"SEQUENCE\"] = test[\"SEQUENCE\"].apply(len)"
   ]
  },
  {
   "cell_type": "markdown",
   "metadata": {},
   "source": [
    "### Encoding categorical variables"
   ]
  },
  {
   "cell_type": "code",
   "execution_count": 3,
   "metadata": {},
   "outputs": [],
   "source": [
    "label_encoders = {}\n",
    "for column in X.select_dtypes(include=['object']).columns:\n",
    "    le = LabelEncoder()\n",
    "    X[column] = le.fit_transform(X[column])\n",
    "    label_encoders[column] = le\n",
    "\n",
    "X = X.drop(\"Target_Status\", axis = 1)\n",
    "y = X[\"Target_Status\"]"
   ]
  },
  {
   "cell_type": "code",
   "execution_count": 4,
   "metadata": {},
   "outputs": [],
   "source": [
    "X_train, X_test, y_train, y_test = train_test_split(X, y, test_size=0.2, random_state=42, shuffle=True)"
   ]
  },
  {
   "cell_type": "markdown",
   "metadata": {},
   "source": [
    "### F1 score function"
   ]
  },
  {
   "cell_type": "code",
   "execution_count": 5,
   "metadata": {},
   "outputs": [],
   "source": [
    "def calculate_f1_score(model, X_train, y_train, X_test, y_test):\n",
    "    model.fit(X_train, y_train)\n",
    "    train_preds = model.predict(X_train)\n",
    "    test_preds = model.predict(X_test)\n",
    "    f1_score_train = f1_score(y_train, train_preds, average='weighted')\n",
    "    f1_score_test = f1_score(y_test, test_preds, average='weighted')\n",
    "    return f1_score_train, f1_score_test"
   ]
  },
  {
   "cell_type": "markdown",
   "metadata": {},
   "source": [
    "## Random Forest Classifier"
   ]
  },
  {
   "cell_type": "code",
   "execution_count": 11,
   "metadata": {},
   "outputs": [
    {
     "name": "stderr",
     "output_type": "stream",
     "text": [
      "[Parallel(n_jobs=-1)]: Using backend ThreadingBackend with 20 concurrent workers.\n",
      "[Parallel(n_jobs=-1)]: Done  10 tasks      | elapsed:    0.2s\n",
      "[Parallel(n_jobs=-1)]: Done 150 out of 150 | elapsed:    2.1s finished\n",
      "[Parallel(n_jobs=20)]: Using backend ThreadingBackend with 20 concurrent workers.\n",
      "[Parallel(n_jobs=20)]: Done  10 tasks      | elapsed:    0.2s\n",
      "[Parallel(n_jobs=20)]: Done 150 out of 150 | elapsed:    1.1s finished\n",
      "[Parallel(n_jobs=20)]: Using backend ThreadingBackend with 20 concurrent workers.\n",
      "[Parallel(n_jobs=20)]: Done  10 tasks      | elapsed:    0.0s\n",
      "[Parallel(n_jobs=20)]: Done 150 out of 150 | elapsed:    0.2s finished\n"
     ]
    }
   ],
   "source": [
    "rf_model = RandomForestClassifier(n_estimators=150, random_state=42, n_jobs=-1, verbose=1,\n",
    "                        max_depth=20, criterion='entropy', class_weight='balanced')\n",
    "rf_f1_score_train, rf_f1_score_test = calculate_f1_score(rf_model, X_train, y_train, X_test, y_test)\n"
   ]
  },
  {
   "cell_type": "code",
   "execution_count": 12,
   "metadata": {},
   "outputs": [
    {
     "name": "stdout",
     "output_type": "stream",
     "text": [
      "Train Random Forest F1 Score: 0.9807539494216908\n",
      "Test Random Forest F1 Score: 0.9325091650759363\n"
     ]
    }
   ],
   "source": [
    "print(f'Train Random Forest F1 Score: {rf_f1_score_train}')\n",
    "print(f'Test Random Forest F1 Score: {rf_f1_score_test}')"
   ]
  },
  {
   "cell_type": "markdown",
   "metadata": {},
   "source": [
    "## XGBoost Classifier"
   ]
  },
  {
   "cell_type": "code",
   "execution_count": 6,
   "metadata": {},
   "outputs": [],
   "source": [
    "from xgboost import XGBClassifier"
   ]
  },
  {
   "cell_type": "code",
   "execution_count": 9,
   "metadata": {},
   "outputs": [],
   "source": [
    "\n",
    "xgb_model = XGBClassifier(n_estimators=150, random_state=42, n_jobs=-1, max_depth=10, learning_rate=0.1,\n",
    "                          )\n",
    "xgb_f1_score_train, xgb_f1_score_test = calculate_f1_score(xgb_model, X_train, y_train, X_test, y_test)\n"
   ]
  },
  {
   "cell_type": "code",
   "execution_count": 10,
   "metadata": {},
   "outputs": [
    {
     "name": "stdout",
     "output_type": "stream",
     "text": [
      "Train XGBoost F1 Score: 0.9790766729381526\n",
      "Test XGBoost F1 Score: 0.9612383521014383\n"
     ]
    }
   ],
   "source": [
    "print(f'Train XGBoost F1 Score: {xgb_f1_score_train}')\n",
    "print(f'Test XGBoost F1 Score: {xgb_f1_score_test}')\n"
   ]
  },
  {
   "cell_type": "code",
   "execution_count": 7,
   "metadata": {},
   "outputs": [],
   "source": [
    "xgb_model = XGBClassifier(n_estimators=150, random_state=42, n_jobs=-1, max_depth=20, learning_rate=0.1,\n",
    "                          )\n",
    "xgb_f1_score_train, xgb_f1_score_test = calculate_f1_score(xgb_model, X_train, y_train, X_test, y_test)\n"
   ]
  },
  {
   "cell_type": "code",
   "execution_count": 8,
   "metadata": {},
   "outputs": [
    {
     "name": "stdout",
     "output_type": "stream",
     "text": [
      "Train XGBoost F1 Score: 0.9825658836022997\n",
      "Test XGBoost F1 Score: 0.9583165721463596\n"
     ]
    }
   ],
   "source": [
    "print(f'Train XGBoost F1 Score: {xgb_f1_score_train}')\n",
    "print(f'Test XGBoost F1 Score: {xgb_f1_score_test}')"
   ]
  },
  {
   "cell_type": "markdown",
   "metadata": {},
   "source": [
    "## Inferencing"
   ]
  },
  {
   "cell_type": "code",
   "execution_count": 10,
   "metadata": {},
   "outputs": [],
   "source": [
    "import pandas as pd\n",
    "import numpy as np"
   ]
  },
  {
   "cell_type": "code",
   "execution_count": 11,
   "metadata": {},
   "outputs": [
    {
     "name": "stdout",
     "output_type": "stream",
     "text": [
      "{'Dermatitis herpetiformis'}\n",
      "{'USP1', 'NPY4R', 'PRKCI', 'PDK2', 'MGMT', 'RXFP1', 'Bact ileS', 'CENPE', 'SETD7', 'LSS'}\n",
      "{'repair methylate nucleobase dna stoichiometrically transfer methyl group cysteine residue enzyme suicide reaction enzyme irreversibly inactivate involve cellular defense biological effect methylguanine meg methylthymine meet dna', 'necessary bcr abl oncogene mediate resistance apoptotic drug leukemia cell protect leukemia cell drug induce apoptosis cultured neuron prevent amyloid beta protein induce apoptosis interrupt cell death process early step glioblastoma cell function downstream phosphatidylinositol kinase promotion cell survival phosphorylate inhibit pro apoptotic factor bad form protein complex non small cell lung cancer nsclc cell regulate oncogenic activity phosphorylation turn promote transform growth invasion response nerve growth factor ngf act downstream src phosphorylate activate allow subsequent activation nf kappa b neuronal cell survival function organization apical domain epithelial cell phosphorylate ezr step crucial activation normal distribution ezr early stage intestinal epithelial cell differentiation form protein complex independently regulate epithelial cell polarity play role microtubule dynamic early secretory pathway interaction gapdh recruitment vesicular tubular cluster vtcs human coronary artery endothelial cell hcaec activate saturate fatty acid mediate lipid induce apoptosis involve early synaptic long term potentiation phase hippocampal cell short term memory formation diacylglycerol independent threonine protein kinase play general protective role apoptotic stimulus involve nf kappa b activation cell survival differentiation polarity contribute regulation microtubule dynamic early secretory pathway', 'essential maintenance chromosomal stability efficient stabilization microtubule capture kinetochore play key role movement chromosome metaphase plate mitosis slow plus direct motor activity essential metaphase chromosome alignment couple chromosome position microtubule depolymerizing activity highly processive dependent motor activity cenpe servesto power chromosome congression provide flexible motile tether link kinetochore dynamic spindle microtubule necessary mitotic checkpoint signal individual kinetochore prevent aneuploidy single chromosome loss require efficient recruitment attached newly unattached kinetochore stimulate mammalian kinase activity accumulate mitosis phase cell cycle', 'involve pcna mediate translesion synthesis tls deubiquitinate monoubiquitinate pcna deubiquitinate activity require interaction high activity negative regulator dna damage repair specifically deubiquitinate monoubiquitinate', 'catalyze attachment isoleucine iler inadvertently accommodate process structurally similar amino acid valine avoid error additional distinct edit activity activity designate pretransfer editing involve hydrolysis activate val amp activity designate posttransfer editing involve deacylation mischarge val', 'methylation represent specific tag epigenetic transcriptional activation play central role transcriptional activation gene collagenase insulin recruit insulin promoter lead activate transcription methyltransferase activity non histone protein possibly recognize bind substrate protein monomethylate lead increase affinity rna polymerase ii monomethylate stabilize increase mediate transcriptional activation histone methyltransferase specifically monomethylate histone', 'kinase play key role regulation glucose fatty acid metabolism homeostasis phosphorylation pyruvate dehydrogenase subunit inhibits pyruvate dehydrogenase activity regulate metabolite flux tricarboxylic acid cycle regulate aerobic respiration inhibit formation acetyl coenzyme pyruvate inhibition pyruvate dehydrogenase decrease glucose utilization increase fat metabolism mediates cellular response insulin play important role maintain normal blood glucose level metabolic adaptation nutrient availability regulation pyruvate dehydrogenase activity play important role maintain normal blood ph prevent accumulation ketone body starvation play role regulation cell proliferation resistance apoptosis oxidative stress play role mediate apoptosis', 'receptor neuropeptide y peptide yy rank order affinity receptor pancreatic polypeptide pp pp pp pyy pyy npy npy pyy npy pp pp npy free acid', 'receptor relaxin activity receptor mediate g protein lead stimulation adenylate cyclase increase camp bind ligand activate tyrosine kinase pathway inhibit activity phosphodiesterase degrade camp', 'catalyze cyclization oxidosqualene lanosterol reaction form sterol nucleus'}\n",
      "{'carbon oxygen ligase', 'trafac class myosin kinesin atpase', 'intramolecular transferase'}\n",
      "{'Flatworm infection', 'Anemia', 'Inflammatory polyneuropathy', 'Unspecific infection', 'Rosacea', 'Irritant contact dermatitis'}\n"
     ]
    }
   ],
   "source": [
    "# Encoding categorical variables\n",
    "for column in test.select_dtypes(include=['object']).columns:\n",
    "    if column in label_encoders:\n",
    "        le = label_encoders[column]\n",
    "       \n",
    "        unseen_labels = set(test[column]) - set(le.classes_)\n",
    "        if unseen_labels:\n",
    "            print(unseen_labels)\n",
    "            \n",
    "            le.classes_ = np.append(le.classes_, list(unseen_labels))\n",
    "        test[column] = le.transform(test[column])"
   ]
  },
  {
   "cell_type": "code",
   "execution_count": 12,
   "metadata": {},
   "outputs": [],
   "source": [
    "test_predictions = xgb_model.predict(test)"
   ]
  },
  {
   "cell_type": "code",
   "execution_count": 13,
   "metadata": {},
   "outputs": [
    {
     "name": "stderr",
     "output_type": "stream",
     "text": [
      "d:\\Code\\Nexus\\.conda\\Lib\\site-packages\\sklearn\\preprocessing\\_label.py:153: DataConversionWarning: A column-vector y was passed when a 1d array was expected. Please change the shape of y to (n_samples, ), for example using ravel().\n",
      "  y = column_or_1d(y, warn=True)\n"
     ]
    }
   ],
   "source": [
    "predictions = label_encoders['Target_Status'].inverse_transform(test_predictions)"
   ]
  },
  {
   "cell_type": "code",
   "execution_count": 14,
   "metadata": {},
   "outputs": [],
   "source": [
    "df_for_ID = pd.read_csv('data/test_og.csv')"
   ]
  },
  {
   "cell_type": "code",
   "execution_count": 15,
   "metadata": {},
   "outputs": [],
   "source": [
    "output_df = pd.DataFrame({\n",
    "    'ID': df_for_ID['ID'],\n",
    "    'Target_Status': predictions\n",
    "})"
   ]
  },
  {
   "cell_type": "code",
   "execution_count": 16,
   "metadata": {},
   "outputs": [
    {
     "data": {
      "text/html": [
       "<div>\n",
       "<style scoped>\n",
       "    .dataframe tbody tr th:only-of-type {\n",
       "        vertical-align: middle;\n",
       "    }\n",
       "\n",
       "    .dataframe tbody tr th {\n",
       "        vertical-align: top;\n",
       "    }\n",
       "\n",
       "    .dataframe thead th {\n",
       "        text-align: right;\n",
       "    }\n",
       "</style>\n",
       "<table border=\"1\" class=\"dataframe\">\n",
       "  <thead>\n",
       "    <tr style=\"text-align: right;\">\n",
       "      <th></th>\n",
       "      <th>ID</th>\n",
       "      <th>Target_Status</th>\n",
       "    </tr>\n",
       "  </thead>\n",
       "  <tbody>\n",
       "    <tr>\n",
       "      <th>0</th>\n",
       "      <td>1076</td>\n",
       "      <td>Approved</td>\n",
       "    </tr>\n",
       "    <tr>\n",
       "      <th>1</th>\n",
       "      <td>190816</td>\n",
       "      <td>Phase 3</td>\n",
       "    </tr>\n",
       "    <tr>\n",
       "      <th>2</th>\n",
       "      <td>180551</td>\n",
       "      <td>Phase 3</td>\n",
       "    </tr>\n",
       "    <tr>\n",
       "      <th>3</th>\n",
       "      <td>51630</td>\n",
       "      <td>Approved</td>\n",
       "    </tr>\n",
       "    <tr>\n",
       "      <th>4</th>\n",
       "      <td>50566</td>\n",
       "      <td>Phase 1/2</td>\n",
       "    </tr>\n",
       "    <tr>\n",
       "      <th>5</th>\n",
       "      <td>148985</td>\n",
       "      <td>Phase 2</td>\n",
       "    </tr>\n",
       "    <tr>\n",
       "      <th>6</th>\n",
       "      <td>71409</td>\n",
       "      <td>Phase 2</td>\n",
       "    </tr>\n",
       "    <tr>\n",
       "      <th>7</th>\n",
       "      <td>18091</td>\n",
       "      <td>Investigative</td>\n",
       "    </tr>\n",
       "    <tr>\n",
       "      <th>8</th>\n",
       "      <td>39903</td>\n",
       "      <td>Phase 1/2</td>\n",
       "    </tr>\n",
       "    <tr>\n",
       "      <th>9</th>\n",
       "      <td>178779</td>\n",
       "      <td>Patented</td>\n",
       "    </tr>\n",
       "  </tbody>\n",
       "</table>\n",
       "</div>"
      ],
      "text/plain": [
       "       ID  Target_Status\n",
       "0    1076       Approved\n",
       "1  190816        Phase 3\n",
       "2  180551        Phase 3\n",
       "3   51630       Approved\n",
       "4   50566      Phase 1/2\n",
       "5  148985        Phase 2\n",
       "6   71409        Phase 2\n",
       "7   18091  Investigative\n",
       "8   39903      Phase 1/2\n",
       "9  178779       Patented"
      ]
     },
     "execution_count": 16,
     "metadata": {},
     "output_type": "execute_result"
    }
   ],
   "source": [
    "output_df.head(10)"
   ]
  },
  {
   "cell_type": "markdown",
   "metadata": {},
   "source": [
    "## .932 score"
   ]
  },
  {
   "cell_type": "code",
   "execution_count": null,
   "metadata": {},
   "outputs": [],
   "source": [
    "output_df.to_csv('predictions.csv', index=False)"
   ]
  },
  {
   "cell_type": "markdown",
   "metadata": {},
   "source": [
    "## .954 score"
   ]
  },
  {
   "cell_type": "code",
   "execution_count": null,
   "metadata": {},
   "outputs": [],
   "source": [
    "output_df.to_csv('xgb_predictions.csv', index=False)"
   ]
  },
  {
   "cell_type": "markdown",
   "metadata": {},
   "source": [
    "## .958 score"
   ]
  },
  {
   "cell_type": "code",
   "execution_count": null,
   "metadata": {},
   "outputs": [],
   "source": [
    "output_df.to_csv('xgb_pluspredictions.csv', index=False)"
   ]
  }
 ],
 "metadata": {
  "kernelspec": {
   "display_name": "Python 3",
   "language": "python",
   "name": "python3"
  },
  "language_info": {
   "codemirror_mode": {
    "name": "ipython",
    "version": 3
   },
   "file_extension": ".py",
   "mimetype": "text/x-python",
   "name": "python",
   "nbconvert_exporter": "python",
   "pygments_lexer": "ipython3",
   "version": "3.12.4"
  }
 },
 "nbformat": 4,
 "nbformat_minor": 2
}
